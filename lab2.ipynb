{
  "cells": [
    {
      "cell_type": "markdown",
      "metadata": {
        "id": "view-in-github",
        "colab_type": "text"
      },
      "source": [
        "<a href=\"https://colab.research.google.com/github/SebastianOrmaechea/Reinforcement-Learning/blob/main/Lab2RL_G_O_V.ipynb\" target=\"_parent\"><img src=\"https://colab.research.google.com/assets/colab-badge.svg\" alt=\"Open In Colab\"/></a>"
      ]
    },
    {
      "cell_type": "markdown",
      "source": [
        "# Lab 2: Introducción al aprendizaje por refuerzos\n",
        "\n",
        "Curso Aprendizaje por Refuerzos, Diplomatura en Ciencia de Datos, Aprendizaje Automático y sus Aplicaciones\n",
        "\n",
        "FaMAF, 2022\n",
        "\n",
        "\n",
        "\n",
        "<font color='red'>Integrantes:\n",
        "\n",
        "\n",
        "<font color='red'> * Garay, Carolina del Valle\n",
        "\n",
        "<font color='red'> * Ormaechea, Sebastián Gabriel\n",
        "\n",
        "<font color='red'> * Venchiarutti, Gustavo\n"
      ],
      "metadata": {
        "id": "Zyn84lT_aYjT"
      }
    },
    {
      "cell_type": "markdown",
      "metadata": {
        "id": "SytTR8K1oII-"
      },
      "source": [
        "# Introducción"
      ]
    },
    {
      "cell_type": "markdown",
      "metadata": {
        "id": "8BFrF74foIJD"
      },
      "source": [
        "Créditos:\n",
        "\n",
        "* Documentación y repo de Stable-baselines https://stable-baselines3.readthedocs.io.\n",
        "    * Tutorial sobre SB3: https://github.com/araffin/rl-tutorial-jnrr19.\n",
        "* Documentación y repo de OpenAI Gym https://github.com/openai/gym/blob/master/docs/.\n",
        "    * Crear un entorno https://github.com/openai/gym/blob/master/docs/creating-environments.md. "
      ]
    },
    {
      "cell_type": "markdown",
      "metadata": {
        "id": "HlZ0ehGZoIJD"
      },
      "source": [
        "Stable-baselines3: framework de deep RL que provee interfaces para ejecutar y adaptar algoritmos de RL \"al estilo scikit-learn\". Permite utilizar agentes abstrayéndonos de los detalles de bajo nivel de abstracción referentes a la implementación del algoritmo$^1$\n",
        "\n",
        "Además, ofrece herramientas muy útiles como\n",
        "\n",
        "* Monitores que permiten ver el rendimiento del agente según se desempeña en el entorno, sin tener que esperar a que finalice de entrenar.\n",
        "* Callbacks que permiten accionar eventos cuando se cumplen algunas condiciones en el entrenamiento de nuestro agente (por ejemplo, detenerlo si la recompensa recibida es menor a cierto umbral tras un cierto período de tiempo).\n",
        "\n",
        "\n",
        "Documentación https://stable-baselines3.readthedocs.io\n",
        "\n",
        "Es un fork activamente mantenido de [OpenAI baselines](https://github.com/openai/baselines)\n",
        "\n",
        "La versión 3 cambia el framework subyacente de Tensorflow a Pytorch y está activamente en desarrollo; no obstante la versión 2 es completamente funcional\n",
        "\n",
        "$^1$ no obstante, al igual que sucede generalmente con librerías de ML: \n",
        "\n",
        "* Siempre es bueno tener en mente las características, ventajas y desventajas del algoritmo utilizado, pues de eso depende mucho la convergencia de nuestra solución, especialmente cuando se emplean entornos adaptados para nuestras necesidades. \n",
        "\n",
        "* Esta librería, al igual que demás frameworks generales de RL, están muy probadas en entornos estándares de RL como Atari o PyBullet. No obstante, es posible que nuestro entorno o nuestras necesidades difieran significativamente, lo que hace que en algunos casos haya que meter mano directo en el código de los algoritmos/librería."
      ]
    },
    {
      "cell_type": "markdown",
      "metadata": {
        "id": "W4SWX4wuoIJE"
      },
      "source": [
        "# Interfaz básica stable-baselines"
      ]
    },
    {
      "cell_type": "code",
      "execution_count": null,
      "metadata": {
        "id": "6kYO6iWl-_vo"
      },
      "outputs": [],
      "source": [
        "import time"
      ]
    },
    {
      "cell_type": "markdown",
      "metadata": {
        "id": "SD-FSSuKoIJF"
      },
      "source": [
        "### Instalación de Stable-baselines\n"
      ]
    },
    {
      "cell_type": "code",
      "execution_count": null,
      "metadata": {
        "id": "ttqOLol_oIJG"
      },
      "outputs": [],
      "source": [
        "#@title Instalación (no modificar)\n",
        "!pip install stable-baselines3[extra] "
      ]
    },
    {
      "cell_type": "markdown",
      "metadata": {
        "id": "vO4mgIsO6hEt"
      },
      "source": [
        "Desde Windows, además, instalar: \n",
        "* Microsoft Visual C++ desde https://visualstudio.microsoft.com/visual-cpp-build-tools/\n",
        "* PyType, mediante `conda install -c conda-forge pytype`"
      ]
    },
    {
      "cell_type": "markdown",
      "metadata": {
        "id": "uUUkScRxoIJQ"
      },
      "source": [
        "### Instalación de RLBaselinesZoo (Opcional!)"
      ]
    },
    {
      "cell_type": "markdown",
      "metadata": {
        "id": "hiKPJUfdoIJQ"
      },
      "source": [
        "Desde Google Colab"
      ]
    },
    {
      "cell_type": "code",
      "execution_count": null,
      "metadata": {
        "id": "ZM_pM0mIoIJQ"
      },
      "outputs": [],
      "source": [
        "#@title Instalación de RLBaselinesZoo (no modificar)\n",
        "\n",
        "# Estamos en Colab?\n",
        "\n",
        "try:\n",
        "  import google.colab\n",
        "  IN_COLAB = True\n",
        "except:\n",
        "  IN_COLAB = False\n",
        "\n",
        "if IN_COLAB:\n",
        "    !git clone --recursive --depth 1 https://github.com/DLR-RM/rl-baselines3-zoo\n",
        "    !cd rl-baselines3-zoo/\n",
        "    !apt-get install swig cmake ffmpeg\n",
        "    !pip install -r /content/rl-baselines3-zoo/requirements.txt"
      ]
    },
    {
      "cell_type": "markdown",
      "metadata": {
        "id": "SzBEoyPzoIJR"
      },
      "source": [
        "Desde Linux, ejecutando\n",
        "\n",
        "    git clone --recursive --depth 1 https://github.com/DLR-RM/rl-baselines3-zoo\n",
        "    cd rl-baselines3-zoo/\n",
        "    conda install swig\n",
        "    pip install -r requirements.txt"
      ]
    },
    {
      "cell_type": "markdown",
      "metadata": {
        "id": "GPUpOonyoIJH"
      },
      "source": [
        "## Ejecución de un algoritmo de RL"
      ]
    },
    {
      "cell_type": "markdown",
      "metadata": {
        "id": "Morjd1dFoIJH"
      },
      "source": [
        "### Importaciones/inicializaciones"
      ]
    },
    {
      "cell_type": "code",
      "execution_count": null,
      "metadata": {
        "id": "OG7i44kqoIJH"
      },
      "outputs": [],
      "source": [
        "import os\n",
        "from subprocess import Popen, PIPE\n",
        "\n",
        "import numpy as np\n",
        "import matplotlib.pyplot as plt\n",
        "\n",
        "import gym\n",
        "from gym import spaces\n",
        "#from gym.envs.registration import register\n",
        "\n",
        "from stable_baselines3 import DQN, PPO\n",
        "from stable_baselines3.common.monitor import Monitor\n",
        "from stable_baselines3.common.vec_env import DummyVecEnv\n",
        "from stable_baselines3.common.callbacks import EvalCallback, StopTrainingOnRewardThreshold\n",
        "from stable_baselines3.common.env_util import make_vec_env\n",
        "\n",
        "os.makedirs('logs', exist_ok=True)\n",
        "\n",
        "cwd = os.getcwd()\n",
        "\n",
        "%matplotlib inline\n",
        "%load_ext tensorboard"
      ]
    },
    {
      "cell_type": "markdown",
      "metadata": {
        "id": "0f5JFC7AoIJK"
      },
      "source": [
        "### Renderización"
      ]
    },
    {
      "cell_type": "code",
      "execution_count": null,
      "metadata": {
        "id": "5nIL0TuwoIJK"
      },
      "outputs": [],
      "source": [
        "if not IN_COLAB:\n",
        "\n",
        "    obs = env.reset()\n",
        "    for i in range(1000):\n",
        "        action, _states = model.predict(obs, deterministic=True)\n",
        "        obs, reward, done, info = env.step(action)\n",
        "        env.render()\n",
        "        if done:\n",
        "          obs = env.reset()\n",
        "\n",
        "    env.close()"
      ]
    },
    {
      "cell_type": "markdown",
      "metadata": {
        "id": "BFYyMrvboIJK"
      },
      "source": [
        "#### Ver rendimiento del agente en tensorboard"
      ]
    },
    {
      "cell_type": "code",
      "execution_count": null,
      "metadata": {
        "colab": {
          "base_uri": "https://localhost:8080/"
        },
        "id": "pC1hqla2oIJK",
        "outputId": "bc8c5812-f1d4-4adf-9857-ce167a7370d3"
      },
      "outputs": [
        {
          "output_type": "execute_result",
          "data": {
            "text/plain": [
              "<stable_baselines3.dqn.dqn.DQN at 0x7f78f51ca0a0>"
            ]
          },
          "metadata": {},
          "execution_count": 6
        }
      ],
      "source": [
        "venv = make_vec_env(lambda: gym.make('CartPole-v1'), n_envs=1)\n",
        "\n",
        "model = DQN('MlpPolicy', venv, tensorboard_log='tensorboard/')\n",
        "model.learn(total_timesteps=100000)"
      ]
    },
    {
      "cell_type": "markdown",
      "metadata": {
        "id": "rldIL1u4oIJL"
      },
      "source": [
        "Para verlo en tensorboard, correr"
      ]
    },
    {
      "cell_type": "markdown",
      "metadata": {
        "id": "v4Db-mCxoIJL"
      },
      "source": [
        "`tensorboard --logdir=tensorboard/`"
      ]
    },
    {
      "cell_type": "markdown",
      "metadata": {
        "id": "2u0_1dk5oIJL"
      },
      "source": [
        "### Monitor\n",
        "\n",
        "Vamos a crear un monitor para loguear nuestro agente en la carpeta logs. Nuestro monitor guardará datos de recompensa (r), duración (l) y tiempo total (t)"
      ]
    },
    {
      "cell_type": "code",
      "execution_count": null,
      "metadata": {
        "colab": {
          "base_uri": "https://localhost:8080/"
        },
        "id": "r7uF7sQdoIJL",
        "outputId": "cc93585c-50ef-4824-e969-71dc4b43b00b"
      },
      "outputs": [
        {
          "output_type": "execute_result",
          "data": {
            "text/plain": [
              "<stable_baselines3.dqn.dqn.DQN at 0x7f780b0bfdf0>"
            ]
          },
          "metadata": {},
          "execution_count": 7
        }
      ],
      "source": [
        "env = gym.make('CartPole-v1')\n",
        "env = Monitor(env, 'logs/')  # reemplazamos env por su monitor\n",
        "\n",
        "model = DQN('MlpPolicy', env, )\n",
        "model.learn(total_timesteps=10000)"
      ]
    },
    {
      "cell_type": "markdown",
      "metadata": {
        "id": "4yVVSGjvoIJM"
      },
      "source": [
        "### Callbacks"
      ]
    },
    {
      "cell_type": "code",
      "execution_count": null,
      "metadata": {
        "colab": {
          "base_uri": "https://localhost:8080/"
        },
        "id": "47XdjvaSoIJM",
        "outputId": "fe9535b0-3f5b-48e9-8e92-2362508abc64"
      },
      "outputs": [
        {
          "output_type": "stream",
          "name": "stdout",
          "text": [
            "Eval num_timesteps=1000, episode_reward=9.60 +/- 0.80\n",
            "Episode length: 9.60 +/- 0.80\n",
            "New best mean reward!\n",
            "Eval num_timesteps=2000, episode_reward=9.20 +/- 0.75\n",
            "Episode length: 9.20 +/- 0.75\n",
            "Eval num_timesteps=3000, episode_reward=9.80 +/- 0.75\n",
            "Episode length: 9.80 +/- 0.75\n",
            "New best mean reward!\n"
          ]
        },
        {
          "output_type": "execute_result",
          "data": {
            "text/plain": [
              "<stable_baselines3.dqn.dqn.DQN at 0x7f780a8098e0>"
            ]
          },
          "metadata": {},
          "execution_count": 8
        }
      ],
      "source": [
        "env = gym.make('CartPole-v1')\n",
        "\n",
        "callbacks = []  # lista de callbacks a usar, pueden ser varios\n",
        "\n",
        "# callback para detener entrenamiento al alcanzar recompensa de 9.8\n",
        "# (es una recompensa muy baja, pero la establecemos a fines demostrativos)\n",
        "#que deje de entrenar a un cierto umbral de recompensa\n",
        "stop_training_callback = StopTrainingOnRewardThreshold(reward_threshold=9.8)\n",
        "\n",
        "# al crear EvalCallback, se asocia el mismo con stop_training_callback\n",
        "callbacks.append(EvalCallback(Monitor(env, 'logs/'), \n",
        "                              eval_freq=1000,\n",
        "                              callback_on_new_best=stop_training_callback))\n",
        "\n",
        "# la semilla aleatoria hace que las ejecuciones sean determinísticas\n",
        "model = DQN('MlpPolicy', env, seed=42)\n",
        "model.learn(total_timesteps=10000, callback=callbacks)"
      ]
    },
    {
      "cell_type": "markdown",
      "metadata": {
        "id": "QCPD7oaNoIJM"
      },
      "source": [
        "### Ejecutar agente RL en múltiples ambientes"
      ]
    },
    {
      "cell_type": "markdown",
      "metadata": {
        "id": "PNiTT2AzoIJM"
      },
      "source": [
        "Esta librería provee una interfaz para ejecutar agentes en varias instancias de un mismo entorno a la vez (*vectorized environments*), de modo tal que se habilite la ejecución paralela y de otras funcionalidades útiles.\n",
        "\n",
        "Para ello, varios de sus algoritmos implementan cambios que consideren la posibilidad de que haya múltiples entornos subyacentes, por ejemplo `step(accion)` cambia a `step(lista_acciones)`, aplicando acciones a todos los entornos, recibiendo ahora múltiples observaciones y recompensas.\n",
        "\n",
        "Otro cambio: se aplica `reset()` automáticamente a cada entorno que llega a un estado final."
      ]
    },
    {
      "cell_type": "markdown",
      "metadata": {
        "id": "9GGZjjcDoIJN"
      },
      "source": [
        "SB brinda dos formas de utilizar entornos vectorizados:\n",
        "\n",
        "* **DummyVecEnv**, el cuál consiste en un *wrapper* de varios entornos, los cuáles funcionarán en un sólo hilo. Este wrapper es útil como entrada de algoritmos que requieren los entornos de esta forma, y habilita los procesamientos y operaciones comunes de los entornos vectorizados.\n",
        "* **SubprocVecEnv**, el cuál paraleliza multiples entornos pero en procesos de ejecucíon separados. Cada proceso tiene su propia memoria y puede adquirir derechos sobre las CPUs de la computadora donde se ejecuta. Se utiliza cuando el entorno del agente es computacionalemente complejo. Atención! **Puede comer mucha RAM**.\n",
        "\n",
        "Vemos un ejemplo:"
      ]
    },
    {
      "cell_type": "code",
      "execution_count": null,
      "metadata": {
        "colab": {
          "base_uri": "https://localhost:8080/"
        },
        "id": "ovc6JDmYoIJN",
        "outputId": "177a956d-a63f-4c13-c049-5c1c1f32a0d1"
      },
      "outputs": [
        {
          "output_type": "execute_result",
          "data": {
            "text/plain": [
              "<stable_baselines3.ppo.ppo.PPO at 0x7f780a7d32b0>"
            ]
          },
          "metadata": {},
          "execution_count": 9
        }
      ],
      "source": [
        "# ejemplo de ambiente dummy\n",
        "venv = DummyVecEnv([lambda: gym.make('CartPole-v1')]*4)\n",
        "\n",
        "model = PPO('MlpPolicy', venv, )\n",
        "model.learn(total_timesteps=10000)"
      ]
    },
    {
      "cell_type": "markdown",
      "metadata": {
        "id": "kkadM0S1oIJO"
      },
      "source": [
        "También puede hacerse con un una función de SB a tal efecto"
      ]
    },
    {
      "cell_type": "code",
      "execution_count": null,
      "metadata": {
        "colab": {
          "base_uri": "https://localhost:8080/"
        },
        "id": "wez-ZY_IoIJO",
        "outputId": "d8a1d565-c8ba-476a-90e1-77c20f46c485"
      },
      "outputs": [
        {
          "output_type": "execute_result",
          "data": {
            "text/plain": [
              "<stable_baselines3.ppo.ppo.PPO at 0x7f780a809d30>"
            ]
          },
          "metadata": {},
          "execution_count": 10
        }
      ],
      "source": [
        "venv = make_vec_env(lambda: env, n_envs=4)\n",
        "\n",
        "model = PPO('MlpPolicy', venv, )\n",
        "model.learn(total_timesteps=10000)"
      ]
    },
    {
      "cell_type": "markdown",
      "metadata": {
        "id": "BjH4ZQ4NoIJO"
      },
      "source": [
        "### Ejecutar agente con políticas personalizadas"
      ]
    },
    {
      "cell_type": "code",
      "execution_count": null,
      "metadata": {
        "colab": {
          "base_uri": "https://localhost:8080/"
        },
        "id": "jp_aPhIdoIJO",
        "outputId": "318e9dd8-8098-49a1-ff0d-cb23887c4a45"
      },
      "outputs": [
        {
          "output_type": "stream",
          "name": "stdout",
          "text": [
            "Using cpu device\n",
            "Creating environment from the given name 'CartPole-v1'\n",
            "Wrapping the env with a `Monitor` wrapper\n",
            "Wrapping the env in a DummyVecEnv.\n",
            "---------------------------------\n",
            "| rollout/           |          |\n",
            "|    ep_len_mean     | 20.6     |\n",
            "|    ep_rew_mean     | 20.6     |\n",
            "| time/              |          |\n",
            "|    fps             | 1266     |\n",
            "|    iterations      | 1        |\n",
            "|    time_elapsed    | 1        |\n",
            "|    total_timesteps | 2048     |\n",
            "---------------------------------\n",
            "-----------------------------------------\n",
            "| rollout/                |             |\n",
            "|    ep_len_mean          | 25.4        |\n",
            "|    ep_rew_mean          | 25.4        |\n",
            "| time/                   |             |\n",
            "|    fps                  | 692         |\n",
            "|    iterations           | 2           |\n",
            "|    time_elapsed         | 5           |\n",
            "|    total_timesteps      | 4096        |\n",
            "| train/                  |             |\n",
            "|    approx_kl            | 0.008125117 |\n",
            "|    clip_fraction        | 0.0909      |\n",
            "|    clip_range           | 0.2         |\n",
            "|    entropy_loss         | -0.686      |\n",
            "|    explained_variance   | -0.000661   |\n",
            "|    learning_rate        | 0.0003      |\n",
            "|    loss                 | 3.54        |\n",
            "|    n_updates            | 10          |\n",
            "|    policy_gradient_loss | -0.00851    |\n",
            "|    value_loss           | 35.1        |\n",
            "-----------------------------------------\n",
            "-----------------------------------------\n",
            "| rollout/                |             |\n",
            "|    ep_len_mean          | 32.7        |\n",
            "|    ep_rew_mean          | 32.7        |\n",
            "| time/                   |             |\n",
            "|    fps                  | 655         |\n",
            "|    iterations           | 3           |\n",
            "|    time_elapsed         | 9           |\n",
            "|    total_timesteps      | 6144        |\n",
            "| train/                  |             |\n",
            "|    approx_kl            | 0.011632612 |\n",
            "|    clip_fraction        | 0.152       |\n",
            "|    clip_range           | 0.2         |\n",
            "|    entropy_loss         | -0.667      |\n",
            "|    explained_variance   | 0.27        |\n",
            "|    learning_rate        | 0.0003      |\n",
            "|    loss                 | 8.42        |\n",
            "|    n_updates            | 20          |\n",
            "|    policy_gradient_loss | -0.0165     |\n",
            "|    value_loss           | 26.8        |\n",
            "-----------------------------------------\n",
            "----------------------------------------\n",
            "| rollout/                |            |\n",
            "|    ep_len_mean          | 44.7       |\n",
            "|    ep_rew_mean          | 44.7       |\n",
            "| time/                   |            |\n",
            "|    fps                  | 689        |\n",
            "|    iterations           | 4          |\n",
            "|    time_elapsed         | 11         |\n",
            "|    total_timesteps      | 8192       |\n",
            "| train/                  |            |\n",
            "|    approx_kl            | 0.02182687 |\n",
            "|    clip_fraction        | 0.198      |\n",
            "|    clip_range           | 0.2        |\n",
            "|    entropy_loss         | -0.633     |\n",
            "|    explained_variance   | 0.334      |\n",
            "|    learning_rate        | 0.0003     |\n",
            "|    loss                 | 22.7       |\n",
            "|    n_updates            | 30         |\n",
            "|    policy_gradient_loss | -0.018     |\n",
            "|    value_loss           | 44.5       |\n",
            "----------------------------------------\n",
            "-----------------------------------------\n",
            "| rollout/                |             |\n",
            "|    ep_len_mean          | 61.3        |\n",
            "|    ep_rew_mean          | 61.3        |\n",
            "| time/                   |             |\n",
            "|    fps                  | 715         |\n",
            "|    iterations           | 5           |\n",
            "|    time_elapsed         | 14          |\n",
            "|    total_timesteps      | 10240       |\n",
            "| train/                  |             |\n",
            "|    approx_kl            | 0.021517992 |\n",
            "|    clip_fraction        | 0.0658      |\n",
            "|    clip_range           | 0.2         |\n",
            "|    entropy_loss         | -0.607      |\n",
            "|    explained_variance   | 0.301       |\n",
            "|    learning_rate        | 0.0003      |\n",
            "|    loss                 | 23.1        |\n",
            "|    n_updates            | 40          |\n",
            "|    policy_gradient_loss | -0.00758    |\n",
            "|    value_loss           | 61.4        |\n",
            "-----------------------------------------\n"
          ]
        },
        {
          "output_type": "execute_result",
          "data": {
            "text/plain": [
              "<stable_baselines3.ppo.ppo.PPO at 0x7f780a7d3ee0>"
            ]
          },
          "metadata": {},
          "execution_count": 11
        }
      ],
      "source": [
        "# Creamos una clase con una red neuronal de 128x128 neuronas\n",
        "\n",
        "model = PPO('MlpPolicy', policy_kwargs=dict(net_arch=[128,128]), env='CartPole-v1', verbose=1)\n",
        "model.learn(total_timesteps=10000)"
      ]
    },
    {
      "cell_type": "markdown",
      "metadata": {
        "id": "2pGjTA2X6hFO"
      },
      "source": [
        "[Buen post](https://medium.com/aureliantactics/understanding-ppo-plots-in-tensorboard-cbc3199b9ba2) en donde se explica qué significan varias de estas métricas. Para verlas en detalle podemos consultar directamente el [código fuente](https://github.com/DLR-RM/stable-baselines3/blob/master/stable_baselines3/ppo/ppo.py), que está bien documentado y no es muy difícil de seguir."
      ]
    },
    {
      "cell_type": "markdown",
      "metadata": {
        "id": "WbwkBi87oIJO"
      },
      "source": [
        "### Utilizar un entorno personalizado\n",
        "\n",
        "Antes que nada, además de la interfaz que ya vimos de Gym, hay otras nociones que tenemos que tener en cuenta en este contexto:\n",
        "\n",
        "* Los entornos definen un espacio de estados y de acciones, a partir de los cuáles los modelos asumen y respetan la \"forma\" de observaciones y acciones. Por ejemplo, algunos algoritmos están diseñados para espacios de acciones discretos (DQN), continuos (DDPG) o bien poseen implementaciones particulares pueden usarse en ambos (PPO, en el repo de SB3). En cuanto a los espacios, algunos algoritmos asumen explícitamente un espacio discreto (y pequeño), como Q-Learning, mientras que otros como PPO asumen cualquier tipo de espacio.\n",
        "* Los dos tipos más comunes de estados o acciones son los espacios discretos `gym.spaces.Discrete` y los continuos `gym.spaces.Box`.\n",
        "* Los espacios discretos definen un conjunto de $n$ estados/acciones $\\{ 0, 1, \\dots, n-1 \\}$, mientras que los espacios continuos definen un espacio $\\mathbb{R}^d$, de una de las siguientes 4 formas: $[a, b], (-\\infty, b], [a, \\infty), (-\\infty, \\infty)$, en donde $a,b$ son las cotas superior e inferior (de existir).\n",
        "* Ejemplos: un espacio de acciones `Discrete(4)` tiene 4 acciones: $\\{0,1,2,3\\}$; un espacio de estados `Discrete(16)` tiene 16 estados. Un espacio de estados ALTURA, ANCHO, N_CANALES que represente una imagen RGB acotada en $[a=0, b=255]$ se puede crear como\n",
        "\n",
        "`observation_space = spaces.Box(low=0, high=255, shape=(HEIGHT, WIDTH, N_CHANNELS), dtype=np.uint8)`"
      ]
    },
    {
      "cell_type": "markdown",
      "metadata": {
        "id": "YFLZieLNoIJO"
      },
      "source": [
        "Para usar un entorno compatible por esta librería, el mismo tiene que heredar de *gym.Env*. Vemos un ejemplo (crédito: Antonin Raffin https://colab.research.google.com/github/araffin/rl-tutorial-jnrr19/blob/sb3/5_custom_gym_env.ipynb)"
      ]
    },
    {
      "cell_type": "code",
      "execution_count": null,
      "metadata": {
        "id": "str0v6DUoIJO"
      },
      "outputs": [],
      "source": [
        "class GoLeftEnv(gym.Env):\n",
        "  #clase heredada de los ambientes de gym\n",
        "  \"\"\"\n",
        "  Ambiente personalizado que sigue la interfaz de gym.\n",
        "  Es un entorno simple en el cuál el agente debe aprender a ir siempre \n",
        "  hacia la izquierda.\n",
        "  \"\"\"\n",
        "  # Dado que podemos estar en colab, no podemos implementar la salida por interfaz \n",
        "  # gráfica ('human' render mode) \n",
        "  metadata = {'render.modes': ['console']}\n",
        "  # Definimos las constantes\n",
        "  LEFT = 0\n",
        "  RIGHT = 1\n",
        "\n",
        "  def __init__(self, grid_size=10):\n",
        "    super(GoLeftEnv, self).__init__()\n",
        "\n",
        "    # Tamaño de la grilla de 1D\n",
        "    self.grid_size = grid_size\n",
        "    # Inicializamos en agente a la derecha de la grilla\n",
        "    self.agent_pos = grid_size - 1\n",
        "\n",
        "    # Definimos el espacio de acción y observaciones\n",
        "    # Los mismos deben ser objetos gym.spaces\n",
        "    # En este ejemplo usamos dos acciones discretas: izquierda y derecha\n",
        "    n_actions = 2\n",
        "    self.action_space = spaces.Discrete(n_actions)\n",
        "    # La observación será la coordenada donde se encuentra el agente\n",
        "    # puede ser descrita tanto por los espacios Discrete como Box\n",
        "    self.observation_space = spaces.Box(low=0, high=self.grid_size,\n",
        "                                        shape=(2,), dtype=np.float32)\n",
        "\n",
        "  def reset(self):\n",
        "    \"\"\"\n",
        "    Importante: la observación devuelta debe ser un array de numpy\n",
        "    :return: (np.array) \n",
        "    \"\"\"\n",
        "    # Se inicializa el agente a la derecha de la grilla\n",
        "    self.agent_pos = self.grid_size - 1\n",
        "    # convertimos con astype a float32 (numpy) para hacer más general el agente\n",
        "    # (en caso de que querramos usar acciones continuas)\n",
        "    return np.array([self.agent_pos]).astype(np.float32)\n",
        "\n",
        "  def step(self, action):\n",
        "    if action == self.LEFT:\n",
        "      self.agent_pos -= 1\n",
        "    elif action == self.RIGHT:\n",
        "      self.agent_pos += 1\n",
        "    else:\n",
        "      raise ValueError(\"Se recibió una acción inválida={} que no es parte del espacio de acciones\".format(action))\n",
        "\n",
        "    # Evitamos que el agente se salga de los límites de la grilla\n",
        "    self.agent_pos = np.clip(self.agent_pos, 0, self.grid_size)\n",
        "\n",
        "    # Llegó el agente a su estado objetivo (izquierda) de la grilla?\n",
        "    done = bool(self.agent_pos == 0)\n",
        "\n",
        "    # Asignamos recompensa sólo cuando el agente llega a su objetivo\n",
        "    # (recompensa = 0 en todos los demás estados)\n",
        "    reward = 1 if self.agent_pos == 0 else 0\n",
        "\n",
        "    # gym también nos permite devolver información adicional, ej. en Atari: \n",
        "    # las vidas restantes del agente (no usaremos esto por ahora)\n",
        "    info = {}\n",
        "\n",
        "    return np.array([self.agent_pos]).astype(np.float32), reward, done, info\n",
        "\n",
        "  def render(self, mode='console'):\n",
        "    if mode != 'console':\n",
        "      raise NotImplementedError()\n",
        "    # en nuestra interfaz de consola, representamos el agente como una cruz, y \n",
        "    # el resto como un punto\n",
        "    print(\".\" * self.agent_pos, end=\"\")\n",
        "    print(\"x\", end=\"\")\n",
        "    print(\".\" * (self.grid_size - self.agent_pos))\n",
        "\n",
        "  def close(self):\n",
        "    pass"
      ]
    },
    {
      "cell_type": "code",
      "execution_count": null,
      "metadata": {
        "colab": {
          "base_uri": "https://localhost:8080/"
        },
        "id": "flB9-j1SoIJP",
        "outputId": "d80c13fb-d15d-477c-ccde-89db4ef83b1d"
      },
      "outputs": [
        {
          "output_type": "stream",
          "name": "stdout",
          "text": [
            "Using cpu device\n",
            "----------------------------------\n",
            "| rollout/            |          |\n",
            "|    ep_len_mean      | 114      |\n",
            "|    ep_rew_mean      | 1        |\n",
            "|    exploration_rate | 0.783    |\n",
            "| time/               |          |\n",
            "|    episodes         | 4        |\n",
            "|    fps              | 8553     |\n",
            "|    time_elapsed     | 0        |\n",
            "|    total_timesteps  | 457      |\n",
            "----------------------------------\n",
            "----------------------------------\n",
            "| rollout/            |          |\n",
            "|    ep_len_mean      | 134      |\n",
            "|    ep_rew_mean      | 1        |\n",
            "|    exploration_rate | 0.491    |\n",
            "| time/               |          |\n",
            "|    episodes         | 8        |\n",
            "|    fps              | 9085     |\n",
            "|    time_elapsed     | 0        |\n",
            "|    total_timesteps  | 1071     |\n",
            "----------------------------------\n",
            "----------------------------------\n",
            "| rollout/            |          |\n",
            "|    ep_len_mean      | 110      |\n",
            "|    ep_rew_mean      | 1        |\n",
            "|    exploration_rate | 0.372    |\n",
            "| time/               |          |\n",
            "|    episodes         | 12       |\n",
            "|    fps              | 8802     |\n",
            "|    time_elapsed     | 0        |\n",
            "|    total_timesteps  | 1323     |\n",
            "----------------------------------\n",
            "----------------------------------\n",
            "| rollout/            |          |\n",
            "|    ep_len_mean      | 103      |\n",
            "|    ep_rew_mean      | 1        |\n",
            "|    exploration_rate | 0.217    |\n",
            "| time/               |          |\n",
            "|    episodes         | 16       |\n",
            "|    fps              | 8616     |\n",
            "|    time_elapsed     | 0        |\n",
            "|    total_timesteps  | 1649     |\n",
            "----------------------------------\n",
            "----------------------------------\n",
            "| rollout/            |          |\n",
            "|    ep_len_mean      | 93.7     |\n",
            "|    ep_rew_mean      | 1        |\n",
            "|    exploration_rate | 0.11     |\n",
            "| time/               |          |\n",
            "|    episodes         | 20       |\n",
            "|    fps              | 8382     |\n",
            "|    time_elapsed     | 0        |\n",
            "|    total_timesteps  | 1874     |\n",
            "----------------------------------\n",
            "----------------------------------\n",
            "| rollout/            |          |\n",
            "|    ep_len_mean      | 94.4     |\n",
            "|    ep_rew_mean      | 1        |\n",
            "|    exploration_rate | 0.05     |\n",
            "| time/               |          |\n",
            "|    episodes         | 24       |\n",
            "|    fps              | 8435     |\n",
            "|    time_elapsed     | 0        |\n",
            "|    total_timesteps  | 2265     |\n",
            "----------------------------------\n",
            "----------------------------------\n",
            "| rollout/            |          |\n",
            "|    ep_len_mean      | 89.3     |\n",
            "|    ep_rew_mean      | 1        |\n",
            "|    exploration_rate | 0.05     |\n",
            "| time/               |          |\n",
            "|    episodes         | 28       |\n",
            "|    fps              | 8423     |\n",
            "|    time_elapsed     | 0        |\n",
            "|    total_timesteps  | 2500     |\n",
            "----------------------------------\n",
            "----------------------------------\n",
            "| rollout/            |          |\n",
            "|    ep_len_mean      | 93.9     |\n",
            "|    ep_rew_mean      | 1        |\n",
            "|    exploration_rate | 0.05     |\n",
            "| time/               |          |\n",
            "|    episodes         | 32       |\n",
            "|    fps              | 8529     |\n",
            "|    time_elapsed     | 0        |\n",
            "|    total_timesteps  | 3006     |\n",
            "----------------------------------\n",
            "----------------------------------\n",
            "| rollout/            |          |\n",
            "|    ep_len_mean      | 95.9     |\n",
            "|    ep_rew_mean      | 1        |\n",
            "|    exploration_rate | 0.05     |\n",
            "| time/               |          |\n",
            "|    episodes         | 36       |\n",
            "|    fps              | 8504     |\n",
            "|    time_elapsed     | 0        |\n",
            "|    total_timesteps  | 3452     |\n",
            "----------------------------------\n",
            "----------------------------------\n",
            "| rollout/            |          |\n",
            "|    ep_len_mean      | 109      |\n",
            "|    ep_rew_mean      | 1        |\n",
            "|    exploration_rate | 0.05     |\n",
            "| time/               |          |\n",
            "|    episodes         | 40       |\n",
            "|    fps              | 8439     |\n",
            "|    time_elapsed     | 0        |\n",
            "|    total_timesteps  | 4346     |\n",
            "----------------------------------\n",
            "----------------------------------\n",
            "| rollout/            |          |\n",
            "|    ep_len_mean      | 126      |\n",
            "|    ep_rew_mean      | 1        |\n",
            "|    exploration_rate | 0.05     |\n",
            "| time/               |          |\n",
            "|    episodes         | 44       |\n",
            "|    fps              | 8488     |\n",
            "|    time_elapsed     | 0        |\n",
            "|    total_timesteps  | 5552     |\n",
            "----------------------------------\n",
            "----------------------------------\n",
            "| rollout/            |          |\n",
            "|    ep_len_mean      | 129      |\n",
            "|    ep_rew_mean      | 1        |\n",
            "|    exploration_rate | 0.05     |\n",
            "| time/               |          |\n",
            "|    episodes         | 48       |\n",
            "|    fps              | 8561     |\n",
            "|    time_elapsed     | 0        |\n",
            "|    total_timesteps  | 6173     |\n",
            "----------------------------------\n",
            "----------------------------------\n",
            "| rollout/            |          |\n",
            "|    ep_len_mean      | 133      |\n",
            "|    ep_rew_mean      | 1        |\n",
            "|    exploration_rate | 0.05     |\n",
            "| time/               |          |\n",
            "|    episodes         | 52       |\n",
            "|    fps              | 8665     |\n",
            "|    time_elapsed     | 0        |\n",
            "|    total_timesteps  | 6898     |\n",
            "----------------------------------\n",
            "----------------------------------\n",
            "| rollout/            |          |\n",
            "|    ep_len_mean      | 130      |\n",
            "|    ep_rew_mean      | 1        |\n",
            "|    exploration_rate | 0.05     |\n",
            "| time/               |          |\n",
            "|    episodes         | 56       |\n",
            "|    fps              | 8532     |\n",
            "|    time_elapsed     | 0        |\n",
            "|    total_timesteps  | 7299     |\n",
            "----------------------------------\n",
            "----------------------------------\n",
            "| rollout/            |          |\n",
            "|    ep_len_mean      | 131      |\n",
            "|    ep_rew_mean      | 1        |\n",
            "|    exploration_rate | 0.05     |\n",
            "| time/               |          |\n",
            "|    episodes         | 60       |\n",
            "|    fps              | 8572     |\n",
            "|    time_elapsed     | 0        |\n",
            "|    total_timesteps  | 7855     |\n",
            "----------------------------------\n",
            "----------------------------------\n",
            "| rollout/            |          |\n",
            "|    ep_len_mean      | 127      |\n",
            "|    ep_rew_mean      | 1        |\n",
            "|    exploration_rate | 0.05     |\n",
            "| time/               |          |\n",
            "|    episodes         | 64       |\n",
            "|    fps              | 8545     |\n",
            "|    time_elapsed     | 0        |\n",
            "|    total_timesteps  | 8101     |\n",
            "----------------------------------\n",
            "----------------------------------\n",
            "| rollout/            |          |\n",
            "|    ep_len_mean      | 128      |\n",
            "|    ep_rew_mean      | 1        |\n",
            "|    exploration_rate | 0.05     |\n",
            "| time/               |          |\n",
            "|    episodes         | 68       |\n",
            "|    fps              | 8531     |\n",
            "|    time_elapsed     | 1        |\n",
            "|    total_timesteps  | 8686     |\n",
            "----------------------------------\n",
            "----------------------------------\n",
            "| rollout/            |          |\n",
            "|    ep_len_mean      | 126      |\n",
            "|    ep_rew_mean      | 1        |\n",
            "|    exploration_rate | 0.05     |\n",
            "| time/               |          |\n",
            "|    episodes         | 72       |\n",
            "|    fps              | 8533     |\n",
            "|    time_elapsed     | 1        |\n",
            "|    total_timesteps  | 9049     |\n",
            "----------------------------------\n",
            "----------------------------------\n",
            "| rollout/            |          |\n",
            "|    ep_len_mean      | 125      |\n",
            "|    ep_rew_mean      | 1        |\n",
            "|    exploration_rate | 0.05     |\n",
            "| time/               |          |\n",
            "|    episodes         | 76       |\n",
            "|    fps              | 8556     |\n",
            "|    time_elapsed     | 1        |\n",
            "|    total_timesteps  | 9486     |\n",
            "----------------------------------\n",
            "----------------------------------\n",
            "| rollout/            |          |\n",
            "|    ep_len_mean      | 129      |\n",
            "|    ep_rew_mean      | 1        |\n",
            "|    exploration_rate | 0.05     |\n",
            "| time/               |          |\n",
            "|    episodes         | 80       |\n",
            "|    fps              | 8505     |\n",
            "|    time_elapsed     | 1        |\n",
            "|    total_timesteps  | 10291    |\n",
            "----------------------------------\n",
            "----------------------------------\n",
            "| rollout/            |          |\n",
            "|    ep_len_mean      | 127      |\n",
            "|    ep_rew_mean      | 1        |\n",
            "|    exploration_rate | 0.05     |\n",
            "| time/               |          |\n",
            "|    episodes         | 84       |\n",
            "|    fps              | 8435     |\n",
            "|    time_elapsed     | 1        |\n",
            "|    total_timesteps  | 10668    |\n",
            "----------------------------------\n",
            "----------------------------------\n",
            "| rollout/            |          |\n",
            "|    ep_len_mean      | 127      |\n",
            "|    ep_rew_mean      | 1        |\n",
            "|    exploration_rate | 0.05     |\n",
            "| time/               |          |\n",
            "|    episodes         | 88       |\n",
            "|    fps              | 8369     |\n",
            "|    time_elapsed     | 1        |\n",
            "|    total_timesteps  | 11151    |\n",
            "----------------------------------\n",
            "----------------------------------\n",
            "| rollout/            |          |\n",
            "|    ep_len_mean      | 127      |\n",
            "|    ep_rew_mean      | 1        |\n",
            "|    exploration_rate | 0.05     |\n",
            "| time/               |          |\n",
            "|    episodes         | 92       |\n",
            "|    fps              | 8408     |\n",
            "|    time_elapsed     | 1        |\n",
            "|    total_timesteps  | 11666    |\n",
            "----------------------------------\n",
            "----------------------------------\n",
            "| rollout/            |          |\n",
            "|    ep_len_mean      | 123      |\n",
            "|    ep_rew_mean      | 1        |\n",
            "|    exploration_rate | 0.05     |\n",
            "| time/               |          |\n",
            "|    episodes         | 96       |\n",
            "|    fps              | 8381     |\n",
            "|    time_elapsed     | 1        |\n",
            "|    total_timesteps  | 11851    |\n",
            "----------------------------------\n",
            "----------------------------------\n",
            "| rollout/            |          |\n",
            "|    ep_len_mean      | 122      |\n",
            "|    ep_rew_mean      | 1        |\n",
            "|    exploration_rate | 0.05     |\n",
            "| time/               |          |\n",
            "|    episodes         | 100      |\n",
            "|    fps              | 8370     |\n",
            "|    time_elapsed     | 1        |\n",
            "|    total_timesteps  | 12231    |\n",
            "----------------------------------\n",
            "----------------------------------\n",
            "| rollout/            |          |\n",
            "|    ep_len_mean      | 123      |\n",
            "|    ep_rew_mean      | 1        |\n",
            "|    exploration_rate | 0.05     |\n",
            "| time/               |          |\n",
            "|    episodes         | 104      |\n",
            "|    fps              | 8329     |\n",
            "|    time_elapsed     | 1        |\n",
            "|    total_timesteps  | 12717    |\n",
            "----------------------------------\n",
            "----------------------------------\n",
            "| rollout/            |          |\n",
            "|    ep_len_mean      | 121      |\n",
            "|    ep_rew_mean      | 1        |\n",
            "|    exploration_rate | 0.05     |\n",
            "| time/               |          |\n",
            "|    episodes         | 108      |\n",
            "|    fps              | 8349     |\n",
            "|    time_elapsed     | 1        |\n",
            "|    total_timesteps  | 13146    |\n",
            "----------------------------------\n",
            "----------------------------------\n",
            "| rollout/            |          |\n",
            "|    ep_len_mean      | 121      |\n",
            "|    ep_rew_mean      | 1        |\n",
            "|    exploration_rate | 0.05     |\n",
            "| time/               |          |\n",
            "|    episodes         | 112      |\n",
            "|    fps              | 8344     |\n",
            "|    time_elapsed     | 1        |\n",
            "|    total_timesteps  | 13392    |\n",
            "----------------------------------\n",
            "----------------------------------\n",
            "| rollout/            |          |\n",
            "|    ep_len_mean      | 120      |\n",
            "|    ep_rew_mean      | 1        |\n",
            "|    exploration_rate | 0.05     |\n",
            "| time/               |          |\n",
            "|    episodes         | 116      |\n",
            "|    fps              | 8331     |\n",
            "|    time_elapsed     | 1        |\n",
            "|    total_timesteps  | 13663    |\n",
            "----------------------------------\n",
            "----------------------------------\n",
            "| rollout/            |          |\n",
            "|    ep_len_mean      | 121      |\n",
            "|    ep_rew_mean      | 1        |\n",
            "|    exploration_rate | 0.05     |\n",
            "| time/               |          |\n",
            "|    episodes         | 120      |\n",
            "|    fps              | 8320     |\n",
            "|    time_elapsed     | 1        |\n",
            "|    total_timesteps  | 13934    |\n",
            "----------------------------------\n",
            "----------------------------------\n",
            "| rollout/            |          |\n",
            "|    ep_len_mean      | 119      |\n",
            "|    ep_rew_mean      | 1        |\n",
            "|    exploration_rate | 0.05     |\n",
            "| time/               |          |\n",
            "|    episodes         | 124      |\n",
            "|    fps              | 8314     |\n",
            "|    time_elapsed     | 1        |\n",
            "|    total_timesteps  | 14166    |\n",
            "----------------------------------\n",
            "----------------------------------\n",
            "| rollout/            |          |\n",
            "|    ep_len_mean      | 119      |\n",
            "|    ep_rew_mean      | 1        |\n",
            "|    exploration_rate | 0.05     |\n",
            "| time/               |          |\n",
            "|    episodes         | 128      |\n",
            "|    fps              | 8300     |\n",
            "|    time_elapsed     | 1        |\n",
            "|    total_timesteps  | 14362    |\n",
            "----------------------------------\n",
            "----------------------------------\n",
            "| rollout/            |          |\n",
            "|    ep_len_mean      | 116      |\n",
            "|    ep_rew_mean      | 1        |\n",
            "|    exploration_rate | 0.05     |\n",
            "| time/               |          |\n",
            "|    episodes         | 132      |\n",
            "|    fps              | 8308     |\n",
            "|    time_elapsed     | 1        |\n",
            "|    total_timesteps  | 14614    |\n",
            "----------------------------------\n",
            "----------------------------------\n",
            "| rollout/            |          |\n",
            "|    ep_len_mean      | 116      |\n",
            "|    ep_rew_mean      | 1        |\n",
            "|    exploration_rate | 0.05     |\n",
            "| time/               |          |\n",
            "|    episodes         | 136      |\n",
            "|    fps              | 8290     |\n",
            "|    time_elapsed     | 1        |\n",
            "|    total_timesteps  | 15032    |\n",
            "----------------------------------\n",
            "----------------------------------\n",
            "| rollout/            |          |\n",
            "|    ep_len_mean      | 111      |\n",
            "|    ep_rew_mean      | 1        |\n",
            "|    exploration_rate | 0.05     |\n",
            "| time/               |          |\n",
            "|    episodes         | 140      |\n",
            "|    fps              | 8285     |\n",
            "|    time_elapsed     | 1        |\n",
            "|    total_timesteps  | 15402    |\n",
            "----------------------------------\n",
            "----------------------------------\n",
            "| rollout/            |          |\n",
            "|    ep_len_mean      | 103      |\n",
            "|    ep_rew_mean      | 1        |\n",
            "|    exploration_rate | 0.05     |\n",
            "| time/               |          |\n",
            "|    episodes         | 144      |\n",
            "|    fps              | 8146     |\n",
            "|    time_elapsed     | 1        |\n",
            "|    total_timesteps  | 15822    |\n",
            "----------------------------------\n",
            "----------------------------------\n",
            "| rollout/            |          |\n",
            "|    ep_len_mean      | 98.8     |\n",
            "|    ep_rew_mean      | 1        |\n",
            "|    exploration_rate | 0.05     |\n",
            "| time/               |          |\n",
            "|    episodes         | 148      |\n",
            "|    fps              | 8123     |\n",
            "|    time_elapsed     | 1        |\n",
            "|    total_timesteps  | 16054    |\n",
            "----------------------------------\n",
            "----------------------------------\n",
            "| rollout/            |          |\n",
            "|    ep_len_mean      | 94.7     |\n",
            "|    ep_rew_mean      | 1        |\n",
            "|    exploration_rate | 0.05     |\n",
            "| time/               |          |\n",
            "|    episodes         | 152      |\n",
            "|    fps              | 8129     |\n",
            "|    time_elapsed     | 2        |\n",
            "|    total_timesteps  | 16369    |\n",
            "----------------------------------\n",
            "----------------------------------\n",
            "| rollout/            |          |\n",
            "|    ep_len_mean      | 93       |\n",
            "|    ep_rew_mean      | 1        |\n",
            "|    exploration_rate | 0.05     |\n",
            "| time/               |          |\n",
            "|    episodes         | 156      |\n",
            "|    fps              | 8116     |\n",
            "|    time_elapsed     | 2        |\n",
            "|    total_timesteps  | 16601    |\n",
            "----------------------------------\n",
            "----------------------------------\n",
            "| rollout/            |          |\n",
            "|    ep_len_mean      | 90       |\n",
            "|    ep_rew_mean      | 1        |\n",
            "|    exploration_rate | 0.05     |\n",
            "| time/               |          |\n",
            "|    episodes         | 160      |\n",
            "|    fps              | 8117     |\n",
            "|    time_elapsed     | 2        |\n",
            "|    total_timesteps  | 16855    |\n",
            "----------------------------------\n",
            "----------------------------------\n",
            "| rollout/            |          |\n",
            "|    ep_len_mean      | 91.1     |\n",
            "|    ep_rew_mean      | 1        |\n",
            "|    exploration_rate | 0.05     |\n",
            "| time/               |          |\n",
            "|    episodes         | 164      |\n",
            "|    fps              | 8129     |\n",
            "|    time_elapsed     | 2        |\n",
            "|    total_timesteps  | 17210    |\n",
            "----------------------------------\n",
            "----------------------------------\n",
            "| rollout/            |          |\n",
            "|    ep_len_mean      | 90       |\n",
            "|    ep_rew_mean      | 1        |\n",
            "|    exploration_rate | 0.05     |\n",
            "| time/               |          |\n",
            "|    episodes         | 168      |\n",
            "|    fps              | 8111     |\n",
            "|    time_elapsed     | 2        |\n",
            "|    total_timesteps  | 17690    |\n",
            "----------------------------------\n",
            "----------------------------------\n",
            "| rollout/            |          |\n",
            "|    ep_len_mean      | 92.2     |\n",
            "|    ep_rew_mean      | 1        |\n",
            "|    exploration_rate | 0.05     |\n",
            "| time/               |          |\n",
            "|    episodes         | 172      |\n",
            "|    fps              | 8142     |\n",
            "|    time_elapsed     | 2        |\n",
            "|    total_timesteps  | 18266    |\n",
            "----------------------------------\n",
            "----------------------------------\n",
            "| rollout/            |          |\n",
            "|    ep_len_mean      | 92.2     |\n",
            "|    ep_rew_mean      | 1        |\n",
            "|    exploration_rate | 0.05     |\n",
            "| time/               |          |\n",
            "|    episodes         | 176      |\n",
            "|    fps              | 8133     |\n",
            "|    time_elapsed     | 2        |\n",
            "|    total_timesteps  | 18706    |\n",
            "----------------------------------\n",
            "----------------------------------\n",
            "| rollout/            |          |\n",
            "|    ep_len_mean      | 89.2     |\n",
            "|    ep_rew_mean      | 1        |\n",
            "|    exploration_rate | 0.05     |\n",
            "| time/               |          |\n",
            "|    episodes         | 180      |\n",
            "|    fps              | 8153     |\n",
            "|    time_elapsed     | 2        |\n",
            "|    total_timesteps  | 19214    |\n",
            "----------------------------------\n",
            "----------------------------------\n",
            "| rollout/            |          |\n",
            "|    ep_len_mean      | 88.2     |\n",
            "|    ep_rew_mean      | 1        |\n",
            "|    exploration_rate | 0.05     |\n",
            "| time/               |          |\n",
            "|    episodes         | 184      |\n",
            "|    fps              | 8157     |\n",
            "|    time_elapsed     | 2        |\n",
            "|    total_timesteps  | 19486    |\n",
            "----------------------------------\n",
            "----------------------------------\n",
            "| rollout/            |          |\n",
            "|    ep_len_mean      | 85.5     |\n",
            "|    ep_rew_mean      | 1        |\n",
            "|    exploration_rate | 0.05     |\n",
            "| time/               |          |\n",
            "|    episodes         | 188      |\n",
            "|    fps              | 8152     |\n",
            "|    time_elapsed     | 2        |\n",
            "|    total_timesteps  | 19702    |\n",
            "----------------------------------\n"
          ]
        }
      ],
      "source": [
        "env = GoLeftEnv(grid_size=10)\n",
        "env = make_vec_env(lambda: env, n_envs=1)\n",
        "\n",
        "model = DQN('MlpPolicy', env, verbose=1).learn(20000)"
      ]
    },
    {
      "cell_type": "markdown",
      "metadata": {
        "id": "VC5TczTL6hFT"
      },
      "source": [
        "Ver agente entrenado"
      ]
    },
    {
      "cell_type": "code",
      "execution_count": null,
      "metadata": {
        "colab": {
          "base_uri": "https://localhost:8080/"
        },
        "id": "4-OcrgC36hFU",
        "outputId": "ce022098-d783-4dec-be72-a5fae69e5432"
      },
      "outputs": [
        {
          "output_type": "stream",
          "name": "stdout",
          "text": [
            "........x..\n",
            ".......x...\n",
            "......x....\n",
            ".....x.....\n",
            "....x......\n",
            "...x.......\n",
            "..x........\n",
            ".x.........\n",
            ".........x.\n",
            "........x..\n"
          ]
        }
      ],
      "source": [
        "obs = env.reset()\n",
        "for i in range(10):\n",
        "    action, _states = model.predict(obs)\n",
        "    obs, rewards, dones, info = env.step(action)\n",
        "    env.render(mode='console')\n",
        "    if dones[0]:\n",
        "        obs = env.reset()"
      ]
    },
    {
      "cell_type": "markdown",
      "metadata": {
        "id": "sgrWKJlsoIJT"
      },
      "source": [
        "## Normalización de features y recompensas"
      ]
    },
    {
      "cell_type": "markdown",
      "metadata": {
        "id": "BIfn3o99oIJT"
      },
      "source": [
        "Stable-Baselines3 tiene predefinidos un conjunto de **wrappers** genericos que pueden utilizarse para preprocesar las observaciones que llegan al agente RL, desacoplando del mismo el prepocesamiento.\n",
        "\n",
        "Entre las funcionalidades disponibles tenemos:\n",
        "* **VecFrameStack**: Se utiliza cuando la observación que percibe el agente es una imagen. Sirve para expandir el espacio de estados apilando N frames de manera conjunta (ver [paper de DQN](https://arxiv.org/abs/1312.5602) para más detalle).\n",
        "* **VecNormalize**: Se utiliza para normalizar las observaciónes y/o las recompenzas que percibe el agente, a $\\mu=0$ y $\\sigma=1$. También permite cortar valores de observaciones y/o recompensas que excedan un rango establecido. \n",
        "* **VecCheckNan**: Se utiliza para trackear los estados del entorno que generan que los gradientes de la RNN se hagan NaN.\n",
        "* **VecVideoRecorder**: Se utiliza para exportar el funcionamiento de la política aprendida por el agente a un video (MP4).\n",
        "\n",
        "Ademas, se pueden crear **wrappers** personalizados extendiendo la clase **VecEnvWrapper**:\n",
        "\n",
        "```\n",
        "class MiWrapper(VecEnvWrapper):\n",
        "    [...]\n",
        "```\n",
        "### Ejemplo (VecNormalize)"
      ]
    },
    {
      "cell_type": "code",
      "execution_count": null,
      "metadata": {
        "colab": {
          "base_uri": "https://localhost:8080/"
        },
        "id": "3VOh1HQCVJNA",
        "outputId": "9039731b-68f0-41cf-b607-011817f76c5c"
      },
      "outputs": [
        {
          "output_type": "execute_result",
          "data": {
            "text/plain": [
              "<stable_baselines3.dqn.dqn.DQN at 0x7f780a718a30>"
            ]
          },
          "metadata": {},
          "execution_count": 15
        }
      ],
      "source": [
        "from stable_baselines3.common.vec_env import DummyVecEnv, VecNormalize\n",
        "\n",
        "env = gym.make('CartPole-v1')\n",
        "env = DummyVecEnv([lambda: env])  # Multiples entornos vectorizados\n",
        "# Normalizamos tanto observaciones como recompensas, y recortamos ambas cuando exceden 10\n",
        "env = VecNormalize(env, norm_obs=True, norm_reward=True, clip_obs=10.0, clip_reward=10.0)\n",
        "\n",
        "model = DQN('MlpPolicy', env)\n",
        "model.learn(total_timesteps=10000)\n"
      ]
    },
    {
      "cell_type": "markdown",
      "metadata": {
        "id": "exel4Gr8oIJQ"
      },
      "source": [
        "# RL-baselines3-zoo\n",
        "\n",
        "Colección de agentes RL y herramientas útiles para ejecutarlos, evaluarlos e incluso hacer videos con ellos. Los agentes de este repo están preparados con la configuración requerida para los distintos tipos de entornos, incluyendo Atari, PyBullet y entornos clásicos, incluyendo configuraciones e híper-parámetros que producen buenas políticas para tales entornos.\n",
        "\n",
        "Esta librería ofrece un muy buen punto de partida para utilizar agentes / entornos personalizados, ya que ofrece una [interfaz](https://github.com/DLR-RM/rl-baselines3-zoo/blob/master/train.py) fácilmente adaptable a nuestras necesidades.\n",
        "\n",
        "Si se usan entornos personalizados con rl-baselines3-zoo, debe tenerse en cuenta que se deben definir todos los híper-parámetros de antemano, sea al instanciar el agente, o en la carpeta */rl-baselines3-zoo/hyperparams*; de lo contrario arrojará error por no encontrar qué híper-parámetro usar.\n",
        "\n",
        "**Importante:** esta librería es enteramente opcional, no es necesaria para realizar los labs."
      ]
    },
    {
      "cell_type": "code",
      "execution_count": null,
      "metadata": {
        "id": "dVRDazhO6hFa"
      },
      "outputs": [],
      "source": [
        "# verificamos si está el repo rl-baselines3-zoo, si es así ejecutamos las celdas siguientes\n",
        "repo_downloaded = os.path.exists('rl-baselines3-zoo')"
      ]
    },
    {
      "cell_type": "markdown",
      "metadata": {
        "id": "p6TCyu_UoIJR"
      },
      "source": [
        "## Ejecución\n",
        "\n",
        "Los agentes pueden ser llamados desde la consola mediante comandos como\n",
        "\n",
        "`python train.py --algo algo_name --env env_id`\n",
        "\n",
        "Los cuales pueden ser llamados usando"
      ]
    },
    {
      "cell_type": "code",
      "execution_count": null,
      "metadata": {
        "id": "jBLMVxhIoIJR"
      },
      "outputs": [],
      "source": [
        "if repo_downloaded:\n",
        "\n",
        "    os.chdir('rl-baselines3-zoo/')\n",
        "\n",
        "    args = [\n",
        "        '-n', str(100000),\n",
        "        '--algo', 'ppo',\n",
        "        '--env', 'CartPole-v1'\n",
        "    ]\n",
        "\n",
        "    p = Popen(['python', 'train.py'] + args,\n",
        "                                   stdin=PIPE, stdout=PIPE, stderr=PIPE)\n",
        "    output, err = p.communicate()\n",
        "    rc = p.returncode\n",
        "    os.chdir(cwd)\n",
        "    assert rc == 0"
      ]
    },
    {
      "cell_type": "markdown",
      "metadata": {
        "id": "40H4hNcqoIJR"
      },
      "source": [
        "Ver en acción el agente entrenado (nota: no disponible en Google Colab, requiere ffmpeg)"
      ]
    },
    {
      "cell_type": "code",
      "execution_count": null,
      "metadata": {
        "id": "cNija96loIJR"
      },
      "outputs": [],
      "source": [
        "if not IN_COLAB and repo_downloaded:\n",
        "    os.chdir('rl-baselines3-zoo/')\n",
        "\n",
        "    args = [\n",
        "        '--algo', 'ppo',\n",
        "        '--env', 'CartPole-v1',\n",
        "        '--folder', 'logs/'\n",
        "    ]\n",
        "\n",
        "    p = Popen(['python', 'enjoy.py'] + args,\n",
        "                                   stdin=PIPE, stdout=PIPE, stderr=PIPE)\n",
        "    output, err = p.communicate()\n",
        "    rc = p.returncode\n",
        "    os.chdir(cwd)\n",
        "    assert rc == 0"
      ]
    },
    {
      "cell_type": "markdown",
      "metadata": {
        "id": "MSfIitK7oIJR"
      },
      "source": [
        "También es posible grabar un video! Ver https://stable-baselines3.readthedocs.io/en/master/guide/examples.html#record-a-video"
      ]
    },
    {
      "cell_type": "markdown",
      "metadata": {
        "id": "Phq975BYoIJR"
      },
      "source": [
        "Ver curva de aprendizaje obtenida por el agente desde *utils.plot*"
      ]
    },
    {
      "cell_type": "code",
      "execution_count": null,
      "metadata": {
        "id": "Q8EA41oQoIJS"
      },
      "outputs": [],
      "source": [
        "os.chdir('rl-baselines3-zoo/')\n",
        "\n",
        "args = [\n",
        "    '--algo', 'ppo',\n",
        "    '--env', 'CartPole-v1',\n",
        "    '--exp-folder', 'logs/'\n",
        "]\n",
        "\n",
        "p = Popen(['python', '-m', 'scripts.plot_train'] + args, stdout=PIPE)\n",
        "output, err = p.communicate()\n",
        "rc = p.returncode\n",
        "os.chdir(cwd)\n",
        "\n",
        "assert rc == 0"
      ]
    },
    {
      "cell_type": "code",
      "execution_count": null,
      "metadata": {
        "colab": {
          "base_uri": "https://localhost:8080/"
        },
        "id": "__1mgFR0oIJT",
        "outputId": "3f4664ed-28a3-407b-a858-25ccae1b2083"
      },
      "outputs": [
        {
          "output_type": "stream",
          "name": "stdout",
          "text": [
            "b'Figure(640x480)\\n'\n"
          ]
        }
      ],
      "source": [
        "print(output)"
      ]
    },
    {
      "cell_type": "markdown",
      "metadata": {
        "id": "BWzAHj6qoIJT"
      },
      "source": [
        "## Híper-parámetros\n",
        "\n",
        "rl-baselines-zoo provee híper-parámetros que resultan en curvas de aprendizaje que convergen en buena cantidad de entornos. Estos híper-parámetros pueden verse en cada uno de los archivos YAML de cada algoritmo, [acá](https://github.com/DLR-RM/rl-baselines3-zoo/tree/master/hyperparams).\n",
        "\n",
        "También provee funcionalidad para optimizar los híper-parámetros con la librería [Optuna]( https://github.com/optuna/optuna). En los mismos se incluyen rangos de híper-parámetros que se usaron para optimizar entornos como los de PyBullet, y son fácilmente modificables para adaptarlo a nuestros propios entornos. Para ver cómo se llama a la interfaz de Optuna ver [este código](https://github.com/DLR-RM/rl-baselines3-zoo/blob/master/utils/hyperparams_opt.py).\n",
        "\n",
        "Nota: **Optuna come muchos recursos!**"
      ]
    },
    {
      "cell_type": "markdown",
      "metadata": {
        "id": "1fjfDHkh6hFm"
      },
      "source": [
        "# Entrenando otros agentes"
      ]
    },
    {
      "cell_type": "markdown",
      "metadata": {
        "id": "qrZQ_iUU6hFm"
      },
      "source": [
        "### Algunos conjuntos de entornos\n",
        "\n",
        "CartPole es una excelente línea base (de hecho suele ser la prueba preliminar de todo nuevo algoritmo), porque tiene recompensas constantes pero requiere cierta solidez por parte del algoritmo para hacerlo converger al óptimo.\n",
        "\n",
        "No obstante, al implementar un algoritmo, es deseable que el mismo pueda desenvolverse de forma consistente en varios grupos de entornos. A continuación va una lista con varios entornos que sirven como prueba:\n",
        "\n",
        "| Entornos                                                                                                           | Estados            | Acciones            | Dificultad      | Implementado por                                                                                                                                                            |\n",
        "|--------------------------------------------------------------------------------------------------------------------|--------------------|---------------------|-----------------|-----------------------------------------------------------------------------------------------------------------------------------------------------------------------------|\n",
        "| Clásicos (CartPole, MountainCar, Pendulum, Deep sea (testea exploración), umbrella (testea asignación de crédito)) | Discretos/Continuos          | Continuas/discretas | Baja/Media      | [Gym](https://github.com/openai/gym/wiki/Table-of-environments) y [BSuite](https://github.com/deepmind/bsuite)                                                                                                                          |\n",
        "| Grilla (desde pequeñas donde hay que salir hasta grandes con muchas habitaciones y subproblemas)                   | Discretos/imágenes | Discretas           | Baja/Media/Alta | [gym-minigrid](https://github.com/maximecb/gym-minigrid)                                                                                                                    |\n",
        "| Grilla/plataforma/estilo Atari, generados proceduralmente                                                          | Imágenes           | Discretas           | Media/Alta      | [Gym](https://github.com/openai/procgen)                                                                                                                                    |\n",
        "| Plataforma 2D, como LunarLander o BipedalWalker                                                                    | Continuos          | Continuas/discretas | Media/Alta      | [Gym](https://github.com/openai/gym/wiki/Table-of-environments)                                                                                                                                                                         |\n",
        "| Primera persona en 3D                                                                                              | Imágenes           | Continuas/discretas | Media/Alta      | [Deepmind](https://github.com/deepmind/lab)                                                                                                                                 |\n",
        "| Simulación física de pequeños robots                                                                               | Continuos          | Continuas           | Media/Alta      | Gym (con el motor [MuJoCo](https://mujoco.org/) o [PyBullet](https://docs.google.com/document/d/10sXEhzFRSnvFcl3XxNGhnD4N2SedqwdAvK3dsihxVUA/edit#heading=h.wz5to0x8kqmr)) |\n",
        "| Atari                                                                                                              | Continuos          | Discretas           | Media/Alta      | [Gym](https://github.com/openai/gym/wiki/Table-of-environments) (son todos aquellos entornos que terminan en \"*-v4*\"                                                                                                                                                                         |\n"
      ]
    },
    {
      "cell_type": "markdown",
      "metadata": {
        "id": "oefsbUw86hFn"
      },
      "source": [
        "## Resumen de algunos algoritmos\n",
        "\n",
        "Se resumen ahora varios algoritmos del estado del arte de aprendizaje por refuerzos profundo\n",
        "\n"
      ]
    },
    {
      "cell_type": "markdown",
      "metadata": {
        "id": "_3engGbd6hFo"
      },
      "source": [
        "| Algoritmo | Tipo       | Espacio de acciones | Resumen rápido                                                                                                                                                | Artículo                         |\n",
        "|-----------|------------|---------------------|---------------------------------------------------------------------------------------------------------------------------------------------------------------|----------------------------------|\n",
        "| DQN       | Off-policy | Discretas           | Extiende Q-Learning a deep learning. En Stable-baselines, DQN incluye todas las mejoras ya incorporadas.                                                      | https://arxiv.org/abs/1312.5602  |\n",
        "| ACER      | Off-policy | Discretas           | Combina una arquitectura actor-critic con un buffer y repetición de experiencia.                                                                              | https://arxiv.org/abs/1611.01224 |\n",
        "| A3C       | On-policy  | Ambos               | Múltiples agentes corriendo en múltiples instancias del ambiente, acumulando sus gradientes y actualizándolos tras un cierto tiempo.                          | https://arxiv.org/abs/1602.01783 |\n",
        "| PPO       | On-policy  | Ambos               | Punta de lanza de policy gradient, incluye mecanismo para que el gradiente actualice de forma acotada, mejorando drásticamente la estabilidad.             | https://arxiv.org/abs/1707.06347 |\n",
        "| DDPG      | Off-policy | Continuas           | Como en espacios de acciones continuos es muy difícil encontrar $\\max_a Q(s,a)$, se aproxima via $Q(s, a(s \\mid \\theta_a))$, siendo $a$ un actor estocástico. | https://arxiv.org/abs/1509.02971 |\n",
        "| TD3       | Off-policy | Continuas           | Mejora DDPG utilizando dos funciones $Q$ y retrasando la actualización para reducir la sobreestimación de $Q$.                                                | https://arxiv.org/abs/1802.09477 |\n",
        "| SAC       | Off-policy | Continuas           | Usa dos funciones $Q$, introduce el bonus por entropía y usa un actor estocástico que muestrea acciones según una política $\\pi$.                             | https://arxiv.org/abs/1801.01290 |"
      ]
    },
    {
      "cell_type": "markdown",
      "metadata": {
        "id": "OYnYDR7w6hFo"
      },
      "source": [
        "## Resumen de algunas herramientas/trucos comúnmente usados\n",
        "\n",
        "* Experience replay/buffer de experiencia: guarda las experiencias en un buffer para poder usarlas repetidamente durante el entrenamiento.\n",
        "    * Ventajas: experiencias raras pero muy relevantes (ej: que tienen mucho error de actualización) quedan guardadas en memoria, pudiendo ser usadas repetidamente para aprender sin necesidad de esperar a que se repitan.\n",
        "    \n",
        "    En métodos de gradiente de política, en cambio, el aprendizaje queda reflejado en los pesos, lo cuál puede hacer que un agente no se desenvuelva correctamente en entornos de recompensa escasa como MountainCar.\n",
        "    \n",
        "    * Desventajas: requiere considerable RAM, son usables solamente en algoritmos off-policy y su muestreo no necesariamente refleja la probabilidad real de tener esas experiencias en el entorno (añadiendo sesgo), por lo que es recomendable usarlo junto con importance sampling.\n",
        "    \n",
        "* Importance sampling: aplica un descuento a las actualizaciones a partir de experience replay relacionado a cuán probable era realizar esa transición.\n",
        "* Entropía: añade un bonus a la función de recompensa para que bonifique políticas $\\pi(s \\mid a)$ que tengan mayor entropía que otras, motivando la exploración del agente.\n",
        "* Juntar varias secuencias de imágenes. Usado principalmente en entornos de Atari para poder evaluar la dirección de movimientos.\n",
        "* Normalización de recompensas/estados. Normaliza las recompensas y observaciones usualmente con una media móvil, de modo tal que las observaciones/recompensas reflejen su relación y varianza con respecto a las demás.\n",
        "* Clipping (recorte) de recompensas. Se usaba principalmente en entornos de Atari con algoritmos tipo DQN para recortar el impacto que las distintas recompensas tenían, a una constante (ej: 1). Suele usarse como una cota máxima de recompensas/observaciones normalizadas."
      ]
    },
    {
      "cell_type": "markdown",
      "metadata": {
        "id": "mUVThVCZ6hFp"
      },
      "source": [
        "# Lab 2\n",
        "\n",
        "1. Crear tu propio entorno y entrenar agentes RL en el mismo. Analizar la convergencia con distintos algoritmos* (ej: PPO, DQN), resultados con distintas funciones de recompensa e híper-parámetros. \n",
        "\n",
        "    Algunas ideas:\n",
        "\n",
        "    * Transformar GoLeftEnv en una grilla 2D, añadir paredes / trampas / agua.\n",
        "    * Crear un entorno que juegue a algún juego como el ta-te-ti.\n",
        "    * Crea un entorno totalmente nuevo que sea de tu interés!\n"
      ]
    },
    {
      "cell_type": "markdown",
      "metadata": {
        "id": "rwXMoJy9oIJT"
      },
      "source": [
        "## **Snake clásico modififcado**\n",
        "\n",
        "Implementamos una modificación al juego de arcade clásico Snake, agregando paredes. En este juego una serpiente se mueve por un tablero y debe recoger frutas para comer. Utilizamos el algoritmo \"PP0\" como técnica de aprendizaje.\n",
        "\n"
      ]
    },
    {
      "cell_type": "code",
      "execution_count": null,
      "metadata": {
        "id": "fCMS5pYBls5p"
      },
      "outputs": [],
      "source": [
        "import numpy as np\n",
        "import gym\n",
        "from gym import spaces\n",
        "import matplotlib.pyplot as plt\n",
        "%matplotlib inline\n",
        "\n",
        "class Serpiente(gym.Env):\n",
        "    \"\"\"\n",
        "    Entorno personalizado para Stable Baseline 3 para el clásico Snake \n",
        "    con modificación de paredes\n",
        "    \"\"\"\n",
        "    metadata = {'render.modes': ['console','rgb_array']}\n",
        "    #Direction constants\n",
        "    n_actions = 3 #3 posibles pasos por cada turno\n",
        "    LEFT = 0\n",
        "    STRAIGHT = 1\n",
        "    RIGHT = 2\n",
        "    #Grid label constants\n",
        "    EMPTY = 0\n",
        "    SNAKE = 1\n",
        "    WALL = 2\n",
        "    FOOD = 3\n",
        "    #Rewards\n",
        "    REWARD_PER_STEP = 0 # recompensa por cada paso dado, entra en bucles infinitos si >0\n",
        "    #Definir pasos máximos para evitar bucles infinitos\n",
        "    REWARD_WALL_HIT = -20 #debe ser inferior a -REWARD_PER_STEP_TOWARDS_FOOD para evitar golpear la pared intencionalmente\n",
        "    REWARD_PER_STEP_TOWARDS_FOOD = 1 #dar recompensa por moverse hacia la comida y penalización por alejarse\n",
        "    REWARD_PER_FOOD = 100 \n",
        "    MAX_STEPS_AFTER_FOOD = 200 #parar si pasamos demasiado tiempo sin comer para evitar bucles infinitos\n",
        "\n",
        "\n",
        "    def __init__(self, grid_size=6):\n",
        "        super(Serpiente, self).__init__()\n",
        "        #Pasos\n",
        "        self.stepnum = 0; self.last_food_step=0\n",
        "        # Tamaño de la cuadrícula 2D (incluidas las paredes)\n",
        "        self.grid_size = grid_size\n",
        "        # Inicializar la serpiente\n",
        "        self.snake_coordinates = [ (1,1), (2,1) ] #comenzar en la esquina inferior izquierda\n",
        "        #Inicializar la grilla\n",
        "        self.grid = np.zeros( (self.grid_size, self.grid_size) ,dtype=np.uint8) + self.EMPTY\n",
        "        self.grid[0,:] = self.WALL; self.grid[:,0] = self.WALL; #pared en los bordes\n",
        "        self.grid[int(grid_size/2),3:(grid_size-3)] = self.WALL; #pared interior \n",
        "        self.grid[self.grid_size-1,:] = self.WALL; self.grid[:,self.grid_size-1] = self.WALL\n",
        "        for coord in self.snake_coordinates:\n",
        "            self.grid[ coord ] = self.SNAKE  #poner serpiente en la grilla\n",
        "        self.grid[2,2] = self.FOOD  #comenzar en la esquina superior derecha\n",
        "        #Distancia inicial a la comida\n",
        "        self.head_dist_to_food = self.grid_distance(self.snake_coordinates[-1],np.argwhere(self.grid==self.FOOD)[0] )\n",
        "        #Almacenar valores iniciales\n",
        "        self.init_grid = self.grid.copy()\n",
        "        self.init_snake_coordinates = self.snake_coordinates.copy()\n",
        "        \n",
        "        # El espacio de acción\n",
        "        self.action_space = spaces.Discrete(self.n_actions)\n",
        "        # El espacio de observación, \"posición\" son las coordenadas de la cabeza; \"dirección\" es hacia dónde se\n",
        "        #dirige la serpiente,\"cuadrícula\" contiene la información completa de la cuadrícula\n",
        "        self.observation_space = gym.spaces.Dict(\n",
        "            spaces={\n",
        "                \"position\": gym.spaces.Box(low=0, high=(self.grid_size-1), shape=(2,), dtype=np.int32),\n",
        "                \"direction\": gym.spaces.Box(low=-1, high=1, shape=(2,), dtype=np.int32),\n",
        "                \"grid\": gym.spaces.Box(low = 0, high = 3, shape = (self.grid_size, self.grid_size), dtype=np.uint8),\n",
        "            })\n",
        "    \n",
        "    def grid_distance(self,pos1,pos2):\n",
        "        return np.linalg.norm(np.array(pos1,dtype=np.float32)-np.array(pos2,dtype=np.float32))\n",
        "\n",
        "    def reset(self):\n",
        "        # Restablecer posiciones iniciales\n",
        "        self.stepnum = 0; self.last_food_step=0\n",
        "        self.grid = self.init_grid.copy()\n",
        "        self.snake_coordinates = self.init_snake_coordinates.copy()\n",
        "        #Distancia inicial a la comida\n",
        "        self.head_dist_to_food = self.grid_distance(self.snake_coordinates[-1],np.argwhere(self.grid==self.FOOD)[0] )\n",
        "        return self._get_obs()    \n",
        "             \n",
        "    def _get_obs(self):\n",
        "            direction = np.array(self.snake_coordinates[-1]) - np.array(self.snake_coordinates[-2])\n",
        "            #devolver la observación en el formato de self.observation_space\n",
        "            return {\"position\": np.array(self.snake_coordinates[-1],dtype=np.int32),\n",
        "                    \"direction\" : direction.astype(np.int32),\n",
        "                    \"grid\": self.grid}                  \n",
        "            \n",
        "    def step(self, action):\n",
        "        #Obtener dirección para la serpiente\n",
        "        direction = np.array(self.snake_coordinates[-1]) - np.array(self.snake_coordinates[-2])\n",
        "        if action == self.STRAIGHT:\n",
        "            step = direction #da un paso en la dirección a la que mira la serpiente\n",
        "        elif action == self.RIGHT:\n",
        "            step = np.array( [direction[1], -direction[0]] )  #Girar a la derecha\n",
        "        elif action == self.LEFT:\n",
        "            step = np.array( [-direction[1], direction[0]] )   #Girar a la izquierda\n",
        "        else:\n",
        "            raise ValueError(\"Se recibió una acción inválida={} que no es parte del espacio de acciones\".format(action))\n",
        "        #New head coordinate\n",
        "        new_coord = (np.array(self.snake_coordinates[-1]) + step).astype(np.int32)\n",
        "        #grow snake     \n",
        "        self.snake_coordinates.append( (new_coord[0],new_coord[1]) ) #convert to tuple so we can use it to index\n",
        "\n",
        "        \n",
        "        #Check what is at the new position\n",
        "        new_pos = self.snake_coordinates[-1]\n",
        "        new_pos_type = self.grid[new_pos]\n",
        "        self.grid[new_pos] = self.SNAKE #this position is now occupied by the snake\n",
        "        done = False; reward = 0 #by default the game goes on and no reward   \n",
        "        if new_pos_type == self.FOOD:\n",
        "            reward += self.REWARD_PER_FOOD\n",
        "            self.last_food_step = self.stepnum\n",
        "            #Put down a new food item\n",
        "            empty_tiles = np.argwhere(self.grid==self.EMPTY)\n",
        "            if len(empty_tiles):\n",
        "                new_food_pos=empty_tiles[np.random.randint(0,len(empty_tiles))]\n",
        "                self.grid[new_food_pos[0],new_food_pos[1]] = self.FOOD\n",
        "            else:\n",
        "                done = True #no more tiles to put the food to\n",
        "        else:\n",
        "            #If no food was eaten we remove the end of the snake (i.e., moving not growing)\n",
        "            self.grid[ self.snake_coordinates[0] ] = self.EMPTY\n",
        "            self.snake_coordinates = self.snake_coordinates[1:]\n",
        "            if  (new_pos_type == self.WALL) or (new_pos_type == self.SNAKE):\n",
        "                done = True #stop if we hit the wall or the snake\n",
        "                reward += self.REWARD_WALL_HIT #penalty for hitting walls/tail\n",
        "#             else:\n",
        "#                 reward += self.REWARD_PER_STEP\n",
        "                \n",
        "        #Update distance to food and reward if closer\n",
        "        head_dist_to_food_prev = self.head_dist_to_food\n",
        "        self.head_dist_to_food = self.grid_distance( self.snake_coordinates[-1],np.argwhere(self.grid==self.FOOD)[0] )\n",
        "        if head_dist_to_food_prev > self.head_dist_to_food:\n",
        "            reward += self.REWARD_PER_STEP_TOWARDS_FOOD #reward for getting closer to food\n",
        "        elif head_dist_to_food_prev < self.head_dist_to_food:\n",
        "            reward -= self.REWARD_PER_STEP_TOWARDS_FOOD #penalty for getting further\n",
        "        \n",
        "        #Stop if we played too long without getting food\n",
        "        if ( (self.stepnum - self.last_food_step) > self.MAX_STEPS_AFTER_FOOD ): \n",
        "            done = True    \n",
        "        self.stepnum += 1\n",
        "\n",
        "        return  self._get_obs(), reward, done, {}\n",
        "\n",
        "    def render(self, mode='rgb_array'):\n",
        "        if mode == 'console':\n",
        "            print(self.grid)\n",
        "        elif mode == 'rgb_array':\n",
        "            return self.snake_plot()\n",
        "        else:\n",
        "            raise NotImplementedError()\n",
        "\n",
        "    def close(self):\n",
        "        pass\n",
        "    \n",
        "    def snake_plot(self, plot_inline=False):\n",
        "        wall_ind = (self.grid==self.WALL)\n",
        "        snake_ind = (self.grid==self.SNAKE)\n",
        "        food_ind = (self.grid==self.FOOD)\n",
        "        #Create color array for plot, default white color\n",
        "        Color_array=np.zeros((self.grid_size,self.grid_size,3),dtype=np.uint8)+255 #default white\n",
        "        Color_array[wall_ind,:]= np.array([0,0,0]) #black walls\n",
        "        Color_array[snake_ind,:]= np.array([0,0,255]) #bluish snake\n",
        "        Color_array[food_ind,:]= np.array([0,255,0]) #green food  \n",
        "        #plot\n",
        "        if plot_inline:\n",
        "            fig=plt.figure()\n",
        "            plt.axis('off')\n",
        "            plt.imshow(Color_array, interpolation='nearest')\n",
        "            plt.show()\n",
        "        return Color_array\n",
        "\n",
        "\n",
        "    "
      ]
    },
    {
      "cell_type": "markdown",
      "metadata": {
        "id": "MwNLYiBNRxE5"
      },
      "source": [
        "### Probamos el entorno\n",
        "\n",
        "Utilizamos el algoritmo PPO (Proximal Policy Optimization), este tiene como objetivo mejorar la política actual del agente \"Serpiente\" de manera que maximice la recompensa obtenida. Para lograr esto, el algoritmo PPO utiliza una función de pérdida que tiene en cuenta tanto la recompensa obtenida por la política actual como el cambio en la misma relación con la política anterior.\n",
        "\n"
      ]
    },
    {
      "cell_type": "code",
      "execution_count": null,
      "metadata": {
        "colab": {
          "base_uri": "https://localhost:8080/"
        },
        "id": "Q4UFHcQCFIRk",
        "outputId": "59ccf765-1b10-4399-cb7c-aec4b22738f4"
      },
      "outputs": [
        {
          "output_type": "stream",
          "name": "stdout",
          "text": [
            "Using cpu device\n",
            "---------------------------------\n",
            "| rollout/           |          |\n",
            "|    ep_len_mean     | 3.88     |\n",
            "|    ep_rew_mean     | 33.1     |\n",
            "| time/              |          |\n",
            "|    fps             | 1019     |\n",
            "|    iterations      | 1        |\n",
            "|    time_elapsed    | 2        |\n",
            "|    total_timesteps | 2048     |\n",
            "---------------------------------\n",
            "-----------------------------------------\n",
            "| rollout/                |             |\n",
            "|    ep_len_mean          | 4.5         |\n",
            "|    ep_rew_mean          | 54          |\n",
            "| time/                   |             |\n",
            "|    fps                  | 763         |\n",
            "|    iterations           | 2           |\n",
            "|    time_elapsed         | 5           |\n",
            "|    total_timesteps      | 4096        |\n",
            "| train/                  |             |\n",
            "|    approx_kl            | 0.020654608 |\n",
            "|    clip_fraction        | 0.356       |\n",
            "|    clip_range           | 0.2         |\n",
            "|    entropy_loss         | -1.08       |\n",
            "|    explained_variance   | 0.000635    |\n",
            "|    learning_rate        | 0.0003      |\n",
            "|    loss                 | 1.22e+03    |\n",
            "|    n_updates            | 10          |\n",
            "|    policy_gradient_loss | -0.0625     |\n",
            "|    value_loss           | 2.51e+03    |\n",
            "-----------------------------------------\n",
            "-----------------------------------------\n",
            "| rollout/                |             |\n",
            "|    ep_len_mean          | 4.45        |\n",
            "|    ep_rew_mean          | 59          |\n",
            "| time/                   |             |\n",
            "|    fps                  | 721         |\n",
            "|    iterations           | 3           |\n",
            "|    time_elapsed         | 8           |\n",
            "|    total_timesteps      | 6144        |\n",
            "| train/                  |             |\n",
            "|    approx_kl            | 0.015797198 |\n",
            "|    clip_fraction        | 0.311       |\n",
            "|    clip_range           | 0.2         |\n",
            "|    entropy_loss         | -1.04       |\n",
            "|    explained_variance   | 0.0535      |\n",
            "|    learning_rate        | 0.0003      |\n",
            "|    loss                 | 1e+03       |\n",
            "|    n_updates            | 20          |\n",
            "|    policy_gradient_loss | -0.0582     |\n",
            "|    value_loss           | 2.74e+03    |\n",
            "-----------------------------------------\n",
            "-----------------------------------------\n",
            "| rollout/                |             |\n",
            "|    ep_len_mean          | 6.11        |\n",
            "|    ep_rew_mean          | 85.1        |\n",
            "| time/                   |             |\n",
            "|    fps                  | 705         |\n",
            "|    iterations           | 4           |\n",
            "|    time_elapsed         | 11          |\n",
            "|    total_timesteps      | 8192        |\n",
            "| train/                  |             |\n",
            "|    approx_kl            | 0.015556363 |\n",
            "|    clip_fraction        | 0.268       |\n",
            "|    clip_range           | 0.2         |\n",
            "|    entropy_loss         | -0.979      |\n",
            "|    explained_variance   | 0.0966      |\n",
            "|    learning_rate        | 0.0003      |\n",
            "|    loss                 | 1.95e+03    |\n",
            "|    n_updates            | 30          |\n",
            "|    policy_gradient_loss | -0.0564     |\n",
            "|    value_loss           | 3.21e+03    |\n",
            "-----------------------------------------\n",
            "-----------------------------------------\n",
            "| rollout/                |             |\n",
            "|    ep_len_mean          | 6.12        |\n",
            "|    ep_rew_mean          | 88.8        |\n",
            "| time/                   |             |\n",
            "|    fps                  | 689         |\n",
            "|    iterations           | 5           |\n",
            "|    time_elapsed         | 14          |\n",
            "|    total_timesteps      | 10240       |\n",
            "| train/                  |             |\n",
            "|    approx_kl            | 0.024073988 |\n",
            "|    clip_fraction        | 0.197       |\n",
            "|    clip_range           | 0.2         |\n",
            "|    entropy_loss         | -0.903      |\n",
            "|    explained_variance   | 0.138       |\n",
            "|    learning_rate        | 0.0003      |\n",
            "|    loss                 | 2.59e+03    |\n",
            "|    n_updates            | 40          |\n",
            "|    policy_gradient_loss | -0.0436     |\n",
            "|    value_loss           | 3.28e+03    |\n",
            "-----------------------------------------\n",
            "-----------------------------------------\n",
            "| rollout/                |             |\n",
            "|    ep_len_mean          | 6.57        |\n",
            "|    ep_rew_mean          | 129         |\n",
            "| time/                   |             |\n",
            "|    fps                  | 619         |\n",
            "|    iterations           | 6           |\n",
            "|    time_elapsed         | 19          |\n",
            "|    total_timesteps      | 12288       |\n",
            "| train/                  |             |\n",
            "|    approx_kl            | 0.021527505 |\n",
            "|    clip_fraction        | 0.133       |\n",
            "|    clip_range           | 0.2         |\n",
            "|    entropy_loss         | -0.863      |\n",
            "|    explained_variance   | 0.19        |\n",
            "|    learning_rate        | 0.0003      |\n",
            "|    loss                 | 1.44e+03    |\n",
            "|    n_updates            | 50          |\n",
            "|    policy_gradient_loss | -0.0269     |\n",
            "|    value_loss           | 3.3e+03     |\n",
            "-----------------------------------------\n",
            "-----------------------------------------\n",
            "| rollout/                |             |\n",
            "|    ep_len_mean          | 6.87        |\n",
            "|    ep_rew_mean          | 127         |\n",
            "| time/                   |             |\n",
            "|    fps                  | 579         |\n",
            "|    iterations           | 7           |\n",
            "|    time_elapsed         | 24          |\n",
            "|    total_timesteps      | 14336       |\n",
            "| train/                  |             |\n",
            "|    approx_kl            | 0.010391336 |\n",
            "|    clip_fraction        | 0.0764      |\n",
            "|    clip_range           | 0.2         |\n",
            "|    entropy_loss         | -0.819      |\n",
            "|    explained_variance   | 0.207       |\n",
            "|    learning_rate        | 0.0003      |\n",
            "|    loss                 | 1.18e+03    |\n",
            "|    n_updates            | 60          |\n",
            "|    policy_gradient_loss | -0.0156     |\n",
            "|    value_loss           | 3.49e+03    |\n",
            "-----------------------------------------\n",
            "-----------------------------------------\n",
            "| rollout/                |             |\n",
            "|    ep_len_mean          | 6.85        |\n",
            "|    ep_rew_mean          | 130         |\n",
            "| time/                   |             |\n",
            "|    fps                  | 587         |\n",
            "|    iterations           | 8           |\n",
            "|    time_elapsed         | 27          |\n",
            "|    total_timesteps      | 16384       |\n",
            "| train/                  |             |\n",
            "|    approx_kl            | 0.009792428 |\n",
            "|    clip_fraction        | 0.0829      |\n",
            "|    clip_range           | 0.2         |\n",
            "|    entropy_loss         | -0.761      |\n",
            "|    explained_variance   | 0.226       |\n",
            "|    learning_rate        | 0.0003      |\n",
            "|    loss                 | 1.74e+03    |\n",
            "|    n_updates            | 70          |\n",
            "|    policy_gradient_loss | -0.0149     |\n",
            "|    value_loss           | 3.37e+03    |\n",
            "-----------------------------------------\n",
            "------------------------------------------\n",
            "| rollout/                |              |\n",
            "|    ep_len_mean          | 6.58         |\n",
            "|    ep_rew_mean          | 128          |\n",
            "| time/                   |              |\n",
            "|    fps                  | 594          |\n",
            "|    iterations           | 9            |\n",
            "|    time_elapsed         | 31           |\n",
            "|    total_timesteps      | 18432        |\n",
            "| train/                  |              |\n",
            "|    approx_kl            | 0.0064549604 |\n",
            "|    clip_fraction        | 0.0428       |\n",
            "|    clip_range           | 0.2          |\n",
            "|    entropy_loss         | -0.732       |\n",
            "|    explained_variance   | 0.275        |\n",
            "|    learning_rate        | 0.0003       |\n",
            "|    loss                 | 1.61e+03     |\n",
            "|    n_updates            | 80           |\n",
            "|    policy_gradient_loss | -0.0086      |\n",
            "|    value_loss           | 2.92e+03     |\n",
            "------------------------------------------\n",
            "-----------------------------------------\n",
            "| rollout/                |             |\n",
            "|    ep_len_mean          | 7.25        |\n",
            "|    ep_rew_mean          | 143         |\n",
            "| time/                   |             |\n",
            "|    fps                  | 598         |\n",
            "|    iterations           | 10          |\n",
            "|    time_elapsed         | 34          |\n",
            "|    total_timesteps      | 20480       |\n",
            "| train/                  |             |\n",
            "|    approx_kl            | 0.005509835 |\n",
            "|    clip_fraction        | 0.0422      |\n",
            "|    clip_range           | 0.2         |\n",
            "|    entropy_loss         | -0.686      |\n",
            "|    explained_variance   | 0.269       |\n",
            "|    learning_rate        | 0.0003      |\n",
            "|    loss                 | 1.71e+03    |\n",
            "|    n_updates            | 90          |\n",
            "|    policy_gradient_loss | -0.0077     |\n",
            "|    value_loss           | 3.68e+03    |\n",
            "-----------------------------------------\n"
          ]
        }
      ],
      "source": [
        "env = Serpiente()\n",
        "env = make_vec_env(lambda: env, n_envs=1)\n",
        "\n",
        "model = PPO('MultiInputPolicy', env, verbose=1).learn(20000)"
      ]
    },
    {
      "cell_type": "code",
      "execution_count": null,
      "metadata": {
        "colab": {
          "base_uri": "https://localhost:8080/",
          "height": 1000
        },
        "id": "M4on9hxki58m",
        "outputId": "326a3e4b-c253-448d-9427-f043d0c59c23"
      },
      "outputs": [
        {
          "output_type": "stream",
          "name": "stdout",
          "text": [
            "Step 1\n",
            "position= [2 2] direction= [0 1]\n",
            "reward= 99 done= False\n",
            "Step 2\n",
            "position= [1 2] direction= [-1  0]\n",
            "reward= 1 done= False\n",
            "Step 3\n",
            "position= [1 1] direction= [ 0 -1]\n",
            "reward= -1 done= False\n",
            "Step 4\n",
            "position= [2 1] direction= [1 0]\n",
            "reward= -1 done= False\n",
            "Step 5\n",
            "position= [2 2] direction= [0 1]\n",
            "reward= 1 done= False\n",
            "Step 6\n",
            "position= [1 2] direction= [-1  0]\n",
            "reward= 1 done= False\n",
            "Step 7\n",
            "position= [1 1] direction= [ 0 -1]\n",
            "reward= -1 done= False\n",
            "Step 8\n",
            "position= [2 1] direction= [1 0]\n",
            "reward= -1 done= False\n",
            "Step 9\n",
            "position= [2 2] direction= [0 1]\n",
            "reward= 1 done= False\n",
            "Step 10\n",
            "position= [1 2] direction= [-1  0]\n",
            "reward= 1 done= False\n",
            "Step 11\n",
            "position= [1 1] direction= [ 0 -1]\n",
            "reward= -1 done= False\n",
            "Step 12\n",
            "position= [2 1] direction= [1 0]\n",
            "reward= -1 done= False\n",
            "Step 13\n",
            "position= [2 2] direction= [0 1]\n",
            "reward= 1 done= False\n",
            "Step 14\n",
            "position= [1 2] direction= [-1  0]\n",
            "reward= 1 done= False\n",
            "Step 15\n",
            "position= [1 1] direction= [ 0 -1]\n",
            "reward= -1 done= False\n"
          ]
        },
        {
          "output_type": "display_data",
          "data": {
            "text/plain": [
              "<Figure size 432x432 with 1 Axes>"
            ],
            "image/png": "[encoded data removed]"
          },
          "metadata": {
            "needs_background": "light"
          }
        }
      ],
      "source": [
        "##Manual testing\n",
        "import matplotlib.animation as animation\n",
        "from time import sleep\n",
        "\n",
        "env = Snake_game()\n",
        "env.reset()\n",
        "\n",
        " #Image for initial state\n",
        "fig, ax = plt.subplots(figsize=(6,6))\n",
        "plt.imshow(env.render(mode='rgb_array'))\n",
        "plt.axis('off')\n",
        "plt.savefig(\"snake_init.png\",dpi=150)\n",
        "\n",
        " #Framework to save animgif\n",
        "frames = []\n",
        "fps=24\n",
        "\n",
        "n_steps =15\n",
        "for step in range(n_steps):\n",
        "  print(\"Step {}\".format(step + 1))\n",
        "\n",
        "  obs, reward, done, info = env.step(0)\n",
        "  print('position=', obs['position'], 'direction=', obs['direction'])\n",
        "  print('reward=', reward, 'done=', done)\n",
        "  frames.append([ax.imshow(env.render(mode='rgb_array'), animated=True)])\n",
        "  if done:\n",
        "        print(\"Game over!\", \"reward=\", reward)\n",
        "        break"
      ]
    },
    {
      "cell_type": "markdown",
      "metadata": {
        "id": "6mcoAniFELgT"
      },
      "source": [
        "\n",
        "2. Entrena agentes en entornos más complejos con stable-baselines/rl-baselines-zoo. Tener en cuenta:\n",
        "\n",
        "    * Google Colab tiene una limitante en cuanto a cantidad de recursos de CPU/GPU (incluido un \"rendimiento decreciente silencioso\"), lo cuál reduce la capacidad de entrenar distintos entornos.\n",
        "    * Si el entorno no está implementado en stable-baselines, debe hacerse un wrapper a mano, lo que puede ser sencillo o puede llevar algo más de trabajo, teniendo que tocar código subyacente de la librería. \n",
        "\n",
        "\\* pueden ser usando los agentes de stable-baselines, de rl-baselines-zoo, o bien utilizando algún otro algoritmo (incluso tabular)"
      ]
    },
    {
      "cell_type": "markdown",
      "source": [
        "## **Agente LunarLander**\n",
        "\n",
        "Entrenamos el agente LunarLander con el objetivo de controlar una nave espacial para aterrizarla de manera segura en la superficie lunar.\n",
        "El agente toma decisiones sobre qué acciones ejecutar en cada momento. Esto implica evaluar el estado actual de la simulación y seleccionar la acción que maximice la recompensa esperada en el futuro. A medida que el agente experimenta y juega el juego repetidamente, debería ser capaz de aprender a aterrizar la nave de manera más eficiente y segura.\n",
        "\n"
      ],
      "metadata": {
        "id": "eu1a1-hPsdNU"
      }
    },
    {
      "cell_type": "markdown",
      "source": [
        "### Configuramos entorno y algoritmo DQN."
      ],
      "metadata": {
        "id": "15BsLeLR5RZ0"
      }
    },
    {
      "cell_type": "code",
      "source": [
        "!sudo apt-get update > /dev/null 2>&1\n",
        "!sudo apt-get install -y xvfb python-opengl ffmpeg > /dev/null 2>&1\n",
        "!pip install rarfile --quiet\n",
        "!pip install stable-baselines3[extra] ale-py==0.7.4 --quiet\n",
        "!pip install box2d-py --quiet\n",
        "!pip install gym pyvirtualdisplay --quiet\n",
        "!pip install pyglet --quiet\n"
      ],
      "metadata": {
        "id": "GQ22sOeSJ0CB"
      },
      "execution_count": null,
      "outputs": []
    },
    {
      "cell_type": "code",
      "source": [
        "# Importamos librerías necesarias\n",
        "import io\n",
        "import os\n",
        "import glob\n",
        "import torch\n",
        "import base64\n",
        "import stable_baselines3\n",
        "\n",
        "import numpy as np\n",
        "import matplotlib.pyplot as plt\n",
        "\n",
        "from stable_baselines3 import DQN\n",
        "from stable_baselines3.common.results_plotter import ts2xy, load_results\n",
        "from stable_baselines3.common.callbacks import EvalCallback\n",
        "from stable_baselines3.common.env_util import make_atari_env\n",
        "\n",
        "import gym\n",
        "from gym import spaces\n",
        "from gym.wrappers import Monitor"
      ],
      "metadata": {
        "id": "kHVyJSTdQiA4"
      },
      "execution_count": null,
      "outputs": []
    },
    {
      "cell_type": "code",
      "execution_count": null,
      "metadata": {
        "id": "pAL0zEcYehpf"
      },
      "outputs": [],
      "source": [
        "nn_layers = [64,64] #configuración de la red neuronal.\n",
        "\n",
        "learning_rate = 0.001 ##Tamaño de paso con el que se realiza el descenso por gradiente."
      ]
    },
    {
      "cell_type": "code",
      "execution_count": null,
      "metadata": {
        "id": "VGmjc-CMW0nu"
      },
      "outputs": [],
      "source": [
        "# Crea el entorno del agente\n",
        "env = gym.make('LunarLander-v2')\n",
        "\n",
        "\n",
        "# Crea una carpeta temporal donde se almacenarán los archivos de registro del entrenamiento del agente\n",
        "log_dir = \"/tmp/gym/\"\n",
        "os.makedirs(log_dir, exist_ok=True)\n",
        "\n",
        "env = stable_baselines3.common.monitor.Monitor(env, log_dir )\n",
        "\n",
        "# Inicia la grabación del video\n",
        "#env.start_video_recorder('video.mp4', (800, 600))\n",
        "\n",
        "callback = EvalCallback(env,log_path = log_dir, deterministic=True) #Para evaluar periódicamente el desempeño del agente y registrar los resultados.\n",
        "policy_kwargs = dict(activation_fn=torch.nn.ReLU,\n",
        "                     net_arch=nn_layers)\n",
        "model = DQN(\"MlpPolicy\", env,policy_kwargs = policy_kwargs,\n",
        "            learning_rate=learning_rate,\n",
        "            batch_size=1,  #por simplicidad no hacemos actualizaciones por lotes.\n",
        "            buffer_size=1, #tamaño de la experiencia del búfer de reproducción. \n",
        "            #Establecido en 1 ya que la actualización por lotes no se realiza\n",
        "            learning_starts=1, #comienzo de aprendizaje \n",
        "            gamma=0.99, #factor de descuento (entre 0 y 1)\n",
        "            tau = 1,  #coeficiente de actualización\n",
        "            target_update_interval=1, #actualizar la red de destino inmediatamente\n",
        "            train_freq=(1,\"step\"), #train the network at every step.\n",
        "            max_grad_norm = 10, #the maximum value for the gradient clipping\n",
        "            exploration_initial_eps = 1, #valor inicial de random action probability\n",
        "            exploration_fraction = 0.5, #fracción del período de entrenamiento durante el cual se reduce la tasa de exploración\n",
        "            gradient_steps = 1, #número de pasos del gradiente\n",
        "            seed = 1, #semilla para los generadores pseudoaleatorios\n",
        "            verbose=0) #Establecer verbose en 1 para observar los registros de entrenamiento\n"
      ]
    },
    {
      "cell_type": "code",
      "source": [
        "model.learn(total_timesteps=100000, log_interval=10, callback=callback)"
      ],
      "metadata": {
        "id": "5q-6fiFGB3Ie",
        "colab": {
          "base_uri": "https://localhost:8080/"
        },
        "outputId": "56e1dd9c-4d22-491f-b367-c9d4faefdf72"
      },
      "execution_count": null,
      "outputs": [
        {
          "output_type": "stream",
          "name": "stdout",
          "text": [
            "Eval num_timesteps=10000, episode_reward=-510.91 +/- 143.09\n",
            "Episode length: 103.40 +/- 26.82\n",
            "New best mean reward!\n",
            "Eval num_timesteps=20000, episode_reward=-87.42 +/- 21.23\n",
            "Episode length: 82.00 +/- 16.94\n",
            "New best mean reward!\n",
            "Eval num_timesteps=30000, episode_reward=-11.44 +/- 224.79\n",
            "Episode length: 662.40 +/- 299.99\n",
            "New best mean reward!\n",
            "Eval num_timesteps=40000, episode_reward=-175.65 +/- 13.54\n",
            "Episode length: 383.00 +/- 169.33\n",
            "Eval num_timesteps=50000, episode_reward=-74.26 +/- 29.01\n",
            "Episode length: 1000.00 +/- 0.00\n",
            "Eval num_timesteps=60000, episode_reward=-109.14 +/- 24.77\n",
            "Episode length: 472.20 +/- 191.91\n",
            "Eval num_timesteps=70000, episode_reward=-11.58 +/- 22.06\n",
            "Episode length: 1000.00 +/- 0.00\n",
            "Eval num_timesteps=80000, episode_reward=21.27 +/- 108.71\n",
            "Episode length: 104.40 +/- 61.39\n",
            "New best mean reward!\n",
            "Eval num_timesteps=90000, episode_reward=-13.80 +/- 21.36\n",
            "Episode length: 1000.00 +/- 0.00\n",
            "Eval num_timesteps=100000, episode_reward=150.25 +/- 86.42\n",
            "Episode length: 772.00 +/- 183.47\n",
            "New best mean reward!\n"
          ]
        },
        {
          "output_type": "execute_result",
          "data": {
            "text/plain": [
              "<stable_baselines3.dqn.dqn.DQN at 0x7f7807f646d0>"
            ]
          },
          "metadata": {},
          "execution_count": 113
        }
      ]
    },
    {
      "cell_type": "markdown",
      "source": [
        "### Ploteamos el reward para cada episodio"
      ],
      "metadata": {
        "id": "eNKrt4aFhI8U"
      }
    },
    {
      "cell_type": "code",
      "source": [
        "x, y = ts2xy(load_results(log_dir), 'timesteps')  # Organizar los resultados registrados en un formato limpio para trazar.\n",
        "plt.plot(x,y)\n",
        "plt.ylim([-600, 300])\n",
        "plt.xlabel('Episodios')\n",
        "plt.ylabel('Recompensas por episodios');"
      ],
      "metadata": {
        "id": "ejmn84ZOF489",
        "colab": {
          "base_uri": "https://localhost:8080/",
          "height": 283
        },
        "outputId": "507b507c-5c8f-4b35-dae2-762fc0a2d986"
      },
      "execution_count": null,
      "outputs": [
        {
          "output_type": "display_data",
          "data": {
            "text/plain": [
              "<Figure size 432x288 with 1 Axes>"
            ],
            "image/png": "[encoded data removed]"
          },
          "metadata": {
            "needs_background": "light"
          }
        }
      ]
    },
    {
      "cell_type": "markdown",
      "source": [
        "### Visualización del rendimiento (REVISAR VIDEO)"
      ],
      "metadata": {
        "id": "bo56XmXHq25Z"
      }
    },
    {
      "cell_type": "code",
      "source": [
        "# @title Plotting/Video functions\n",
        "from IPython.display import HTML\n",
        "from pyvirtualdisplay import Display\n",
        "from IPython import display as ipythondisplay\n",
        "from gym.wrappers.monitoring import video_recorder\n",
        "from IPython.display import HTML\n",
        "from IPython import display \n",
        "import glob\n",
        "import base64\n",
        "\n",
        "display = Display(visible=0, size=(1400, 900))\n",
        "display.start()\n",
        "\n",
        "\"\"\"\n",
        "Utility functions to enable video recording of gym environment\n",
        "and displaying it.\n",
        "To enable video, just do \"env = wrap_env(env)\"\"\n",
        "\"\"\"\n",
        "\n",
        "def show_video():\n",
        "  mp4list = glob.glob('video/*.mp4')\n",
        "  if len(mp4list) > 0:\n",
        "    mp4 = mp4list[0]\n",
        "    video = io.open(mp4, 'r+b').read()\n",
        "    encoded = base64.b64encode(video)\n",
        "    ipythondisplay.display(HTML(data='''<video alt=\"test\" autoplay\n",
        "                loop controls style=\"height: 400px;\">\n",
        "                <source src=\"data:video/mp4;base64,{0}\" type=\"video/mp4\" />\n",
        "             </video>'''.format(encoded.decode('ascii'))))\n",
        "  else:\n",
        "    print(\"Could not find video\")\n",
        "\n",
        "\n",
        "def wrap_env(env):\n",
        "  env = Monitor(env, './video', force=True)\n",
        "  return env"
      ],
      "metadata": {
        "id": "D7X7hF--risP"
      },
      "execution_count": null,
      "outputs": []
    }
  ],
  "metadata": {
    "colab": {
      "collapsed_sections": [
        "SD-FSSuKoIJF",
        "uUUkScRxoIJQ"
      ],
      "provenance": [],
      "include_colab_link": true
    },
    "kernelspec": {
      "display_name": "diplodatos_rl",
      "language": "python",
      "name": "diplodatos_rl"
    },
    "language_info": {
      "codemirror_mode": {
        "name": "ipython",
        "version": 3
      },
      "file_extension": ".py",
      "mimetype": "text/x-python",
      "name": "python",
      "nbconvert_exporter": "python",
      "pygments_lexer": "ipython3",
      "version": "3.9.13"
    }
  },
  "nbformat": 4,
  "nbformat_minor": 0
}